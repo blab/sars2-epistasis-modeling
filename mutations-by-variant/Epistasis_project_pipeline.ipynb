{
 "cells": [
  {
   "cell_type": "code",
   "execution_count": 1,
   "id": "cd71e533",
   "metadata": {},
   "outputs": [],
   "source": [
    "import pandas as pd\n",
    "import numpy as np\n",
    "import matplotlib.pyplot as plt\n",
    "from itertools import combinations\n",
    "from augur.utils import json_to_tree\n",
    "import json\n",
    "import math"
   ]
  },
  {
   "cell_type": "code",
   "execution_count": 2,
   "id": "759248a0",
   "metadata": {},
   "outputs": [],
   "source": [
    "#pd.set_option('display.max_rows', None)\n",
    "#pd.set_option('display.max_columns', None)"
   ]
  },
  {
   "cell_type": "markdown",
   "id": "25a871b5",
   "metadata": {},
   "source": [
    "# Grabbing accumulated mutations for each variant"
   ]
  },
  {
   "cell_type": "code",
   "execution_count": 3,
   "id": "99c7663a",
   "metadata": {
    "scrolled": false
   },
   "outputs": [],
   "source": [
    "# There are multiple internal nodes with value BA.2\n",
    "# move this to the end of the tree/dataset\n",
    "END_NODE = [\"NODE_0000260\"]\n",
    "#END_NODE = [\"NODE_0000260\", \"NODE_0000261\", \"NODE_0000265\",\"NODE_0000267\",\"NODE_0000271\",\"internal_c1ab\",\"NODE_0000284\",\"NODE_0000285\"]\n",
    "# check if other internal nodes descend from 260 -- print out node path \n",
    "\n",
    "\n",
    "#grab lineage of tip node\n",
    "def find_lineage(tree, child_node, rows_for_tsv):\n",
    "    gene_muts = {}\n",
    "    node_path = tree.get_path(child_node)\n",
    "    # checking if BA.2 exists in the path\n",
    "    end_node = [j for j in node_path if j.name in END_NODE]\n",
    "    end_node = [0]\n",
    "    if len(end_node) != 0:\n",
    "        #There should never be more than 1 BA.2 node in a given path, so just grab the first element\n",
    "        #end_node = end_node[0]\n",
    "        # remove all elements of path before terminal node if it exists\n",
    "        #node_path = node_path[node_path.index(end_node)+1:]\n",
    "       # do not include child node in path\n",
    "        #i = len(node_path) - 2\n",
    "        i = len(node_path) - 1\n",
    "        # add all mutations in split path to list\n",
    "        while (i >= 0):\n",
    "            gene_muts = format_string(node_path[i].branch_attrs['mutations'],'nuc', gene_muts)\n",
    "            i = i - 1\n",
    "        #append variant name, mutation, and region to list\n",
    "        for k in gene_muts.keys():\n",
    "            for j in range(len(gene_muts[k])):\n",
    "                temp_dict = gene_muts[k]\n",
    "                mut =  str(temp_dict[j]) + '_' + str(k)\n",
    "                rows_for_tsv.append({'variant': child_node.name, 'mutation': mut})\n",
    "\n",
    "#put all the same gene mutations in the same list\n",
    "def format_string(dict, key, gene_muts):\n",
    "    for k in dict.keys():\n",
    "        # exclude nucleotide mutations\n",
    "        if (str(k) != key):\n",
    "            if k not in gene_muts.keys():\n",
    "                #make new dictionary for each region \n",
    "                gene_muts[k] = []\n",
    "            for j in range(len(dict[k])):\n",
    "                temp_dict = dict[k]\n",
    "                #add list of mutations in this region to overall mutations dictionary\n",
    "                gene_muts[k].append(temp_dict[j])\n",
    "    return gene_muts\n",
    "\n",
    "if __name__ == '__main__':\n",
    "    #read in tree\n",
    "    with open(f'../mutations-by-variant/pango_lineages.json', 'r') as f:\n",
    "        tree_json = json.load(f)\n",
    "    #put tree in Bio.Phylo format\n",
    "    tree = json_to_tree(tree_json)\n",
    "    #create list of dictionaries for dataframe\n",
    "    rows_for_tsv = []\n",
    "    for tip in tree.find_clades(terminal=True):\n",
    "        #append new row for every mutation in every child node\n",
    "        find_lineage(tree, tip, rows_for_tsv)\n",
    "    #make pandas dataframe from list of dicts\n",
    "    accumulated_mutations = pd.DataFrame(rows_for_tsv)"
   ]
  },
  {
   "cell_type": "code",
   "execution_count": 4,
   "id": "4cb7f438",
   "metadata": {},
   "outputs": [
    {
     "name": "stdout",
     "output_type": "stream",
     "text": [
      "['NODE_0000007', 'NODE_0000019', 'NODE_0000188', 'NODE_0000245', '21M', 'internal_a01b', 'NODE_0000260', 'NODE_0000261', 'NODE_0000265', 'BA.2.33']\n"
     ]
    }
   ],
   "source": [
    "# verifying that node 260 is the most ancestral BA.2 node...\n",
    "with open(f'../mutations-by-variant/pango_lineages.json', 'r') as f:\n",
    "    tree_json = json.load(f)\n",
    "#put tree in Bio.Phylo format\n",
    "tree = json_to_tree(tree_json)\n",
    "for tip in tree.find_clades(terminal=True):\n",
    "    node_path = tree.get_path(tip)\n",
    "    path_names = [j.name for j in node_path]\n",
    "    if \"NODE_0000265\" in path_names:\n",
    "        print(path_names)\n",
    "        break"
   ]
  },
  {
   "cell_type": "code",
   "execution_count": 5,
   "id": "12ce1bbb",
   "metadata": {},
   "outputs": [
    {
     "data": {
      "text/html": [
       "<div>\n",
       "<style scoped>\n",
       "    .dataframe tbody tr th:only-of-type {\n",
       "        vertical-align: middle;\n",
       "    }\n",
       "\n",
       "    .dataframe tbody tr th {\n",
       "        vertical-align: top;\n",
       "    }\n",
       "\n",
       "    .dataframe thead th {\n",
       "        text-align: right;\n",
       "    }\n",
       "</style>\n",
       "<table border=\"1\" class=\"dataframe\">\n",
       "  <thead>\n",
       "    <tr style=\"text-align: right;\">\n",
       "      <th></th>\n",
       "      <th>variant</th>\n",
       "      <th>mutation</th>\n",
       "    </tr>\n",
       "  </thead>\n",
       "  <tbody>\n",
       "    <tr>\n",
       "      <th>0</th>\n",
       "      <td>XA</td>\n",
       "      <td>L3S_E</td>\n",
       "    </tr>\n",
       "    <tr>\n",
       "      <th>1</th>\n",
       "      <td>XA</td>\n",
       "      <td>L6S_E</td>\n",
       "    </tr>\n",
       "    <tr>\n",
       "      <th>2</th>\n",
       "      <td>XA</td>\n",
       "      <td>I9T_E</td>\n",
       "    </tr>\n",
       "    <tr>\n",
       "      <th>3</th>\n",
       "      <td>XA</td>\n",
       "      <td>M11T_E</td>\n",
       "    </tr>\n",
       "    <tr>\n",
       "      <th>4</th>\n",
       "      <td>XA</td>\n",
       "      <td>F18L_E</td>\n",
       "    </tr>\n",
       "    <tr>\n",
       "      <th>5</th>\n",
       "      <td>XA</td>\n",
       "      <td>F19L_E</td>\n",
       "    </tr>\n",
       "    <tr>\n",
       "      <th>6</th>\n",
       "      <td>XA</td>\n",
       "      <td>F21L_E</td>\n",
       "    </tr>\n",
       "    <tr>\n",
       "      <th>7</th>\n",
       "      <td>XA</td>\n",
       "      <td>V22A_E</td>\n",
       "    </tr>\n",
       "    <tr>\n",
       "      <th>8</th>\n",
       "      <td>XA</td>\n",
       "      <td>I30T_E</td>\n",
       "    </tr>\n",
       "    <tr>\n",
       "      <th>9</th>\n",
       "      <td>XA</td>\n",
       "      <td>V32A_E</td>\n",
       "    </tr>\n",
       "  </tbody>\n",
       "</table>\n",
       "</div>"
      ],
      "text/plain": [
       "  variant mutation\n",
       "0      XA    L3S_E\n",
       "1      XA    L6S_E\n",
       "2      XA    I9T_E\n",
       "3      XA   M11T_E\n",
       "4      XA   F18L_E\n",
       "5      XA   F19L_E\n",
       "6      XA   F21L_E\n",
       "7      XA   V22A_E\n",
       "8      XA   I30T_E\n",
       "9      XA   V32A_E"
      ]
     },
     "execution_count": 5,
     "metadata": {},
     "output_type": "execute_result"
    }
   ],
   "source": [
    "#viewing accumulated mutations df\n",
    "accumulated_mutations.to_csv(\"accumulated_mutations_output.tsv\", sep=\"\\t\")\n",
    "accumulated_mutations.head(10)"
   ]
  },
  {
   "cell_type": "markdown",
   "id": "0d22adc0",
   "metadata": {},
   "source": [
    "### Verifying that mutation counts match auspice json file"
   ]
  },
  {
   "cell_type": "code",
   "execution_count": 6,
   "id": "d146988c",
   "metadata": {},
   "outputs": [
    {
     "data": {
      "text/html": [
       "<div>\n",
       "<style scoped>\n",
       "    .dataframe tbody tr th:only-of-type {\n",
       "        vertical-align: middle;\n",
       "    }\n",
       "\n",
       "    .dataframe tbody tr th {\n",
       "        vertical-align: top;\n",
       "    }\n",
       "\n",
       "    .dataframe thead th {\n",
       "        text-align: right;\n",
       "    }\n",
       "</style>\n",
       "<table border=\"1\" class=\"dataframe\">\n",
       "  <thead>\n",
       "    <tr style=\"text-align: right;\">\n",
       "      <th></th>\n",
       "      <th>Mutation</th>\n",
       "      <th>Count</th>\n",
       "    </tr>\n",
       "  </thead>\n",
       "  <tbody>\n",
       "    <tr>\n",
       "      <th>0</th>\n",
       "      <td>L3S_E</td>\n",
       "      <td>64</td>\n",
       "    </tr>\n",
       "    <tr>\n",
       "      <th>1</th>\n",
       "      <td>L6S_E</td>\n",
       "      <td>64</td>\n",
       "    </tr>\n",
       "    <tr>\n",
       "      <th>2</th>\n",
       "      <td>I9T_E</td>\n",
       "      <td>13</td>\n",
       "    </tr>\n",
       "    <tr>\n",
       "      <th>3</th>\n",
       "      <td>M11T_E</td>\n",
       "      <td>54</td>\n",
       "    </tr>\n",
       "    <tr>\n",
       "      <th>4</th>\n",
       "      <td>F18L_E</td>\n",
       "      <td>64</td>\n",
       "    </tr>\n",
       "    <tr>\n",
       "      <th>...</th>\n",
       "      <td>...</td>\n",
       "      <td>...</td>\n",
       "    </tr>\n",
       "    <tr>\n",
       "      <th>7540</th>\n",
       "      <td>A688T_S</td>\n",
       "      <td>1</td>\n",
       "    </tr>\n",
       "    <tr>\n",
       "      <th>7541</th>\n",
       "      <td>D144N_N</td>\n",
       "      <td>1</td>\n",
       "    </tr>\n",
       "    <tr>\n",
       "      <th>7542</th>\n",
       "      <td>A435S_S</td>\n",
       "      <td>1</td>\n",
       "    </tr>\n",
       "    <tr>\n",
       "      <th>7543</th>\n",
       "      <td>V116X_ORF8</td>\n",
       "      <td>2</td>\n",
       "    </tr>\n",
       "    <tr>\n",
       "      <th>7544</th>\n",
       "      <td>G3578D_ORF1a</td>\n",
       "      <td>1</td>\n",
       "    </tr>\n",
       "  </tbody>\n",
       "</table>\n",
       "<p>7545 rows × 2 columns</p>\n",
       "</div>"
      ],
      "text/plain": [
       "          Mutation  Count\n",
       "0            L3S_E     64\n",
       "1            L6S_E     64\n",
       "2            I9T_E     13\n",
       "3           M11T_E     54\n",
       "4           F18L_E     64\n",
       "...            ...    ...\n",
       "7540       A688T_S      1\n",
       "7541       D144N_N      1\n",
       "7542       A435S_S      1\n",
       "7543    V116X_ORF8      2\n",
       "7544  G3578D_ORF1a      1\n",
       "\n",
       "[7545 rows x 2 columns]"
      ]
     },
     "execution_count": 6,
     "metadata": {},
     "output_type": "execute_result"
    }
   ],
   "source": [
    "# check counts of mutations in the auspice tree to verify the mutations output\n",
    "# creating mutation counts df\n",
    "mutation_counts = {}\n",
    "mutations = accumulated_mutations['mutation']\n",
    "for m in mutations:\n",
    "    if m in mutation_counts:\n",
    "        mutation_counts[m] = mutation_counts[m] + 1\n",
    "    else:\n",
    "        mutation_counts[m] = 1\n",
    "mut_counts = pd.DataFrame(mutation_counts.items(), columns=['Mutation', 'Count'])\n",
    "mut_counts"
   ]
  },
  {
   "cell_type": "markdown",
   "id": "cd35ed99",
   "metadata": {},
   "source": [
    "# Assigning Mutational GAs to each variant"
   ]
  },
  {
   "cell_type": "code",
   "execution_count": 7,
   "id": "92cd6099",
   "metadata": {},
   "outputs": [],
   "source": [
    "import jax.numpy as jnp\n",
    "import numpy as np\n",
    "import evofr as ef\n",
    "from evofr.models.mutational_fitness_mlr import MutationalFitnessMLR, MutationalFitnessSequenceCounts"
   ]
  },
  {
   "cell_type": "code",
   "execution_count": 8,
   "id": "ecb953ea",
   "metadata": {},
   "outputs": [
    {
     "name": "stderr",
     "output_type": "stream",
     "text": [
      "/home/allisonli/miniconda3/envs/nextstrain-workflow/lib/python3.9/site-packages/evofr/data/data_helpers.py:89: UserWarning: other not present in variant names. Using provided order.\n",
      "  warnings.warn(\n"
     ]
    }
   ],
   "source": [
    "# Getting data\n",
    "raw_seq = pd.read_csv(\"../../sars2-epistasis-modeling/count-data/pango_location-variant-sequence-counts.tsv\", sep=\"\\t\")\n",
    "raw_seq_mut = raw_seq[~raw_seq.variant.str.startswith(\"X\")]\n",
    "raw_muts = accumulated_mutations\n",
    "# exclude variants that are not present in mutations\n",
    "raw_seq_mut =  raw_seq_mut[raw_seq_mut['variant'].isin(raw_muts.variant.values)]\n",
    "variant_frequencies_mut = MutationalFitnessSequenceCounts(raw_seq_mut, raw_muts)"
   ]
  },
  {
   "cell_type": "code",
   "execution_count": 9,
   "id": "19ef1f32",
   "metadata": {},
   "outputs": [
    {
     "name": "stderr",
     "output_type": "stream",
     "text": [
      "No GPU/TPU found, falling back to CPU. (Set TF_CPP_MIN_LOG_LEVEL=0 and rerun for more info.)\n"
     ]
    }
   ],
   "source": [
    "# Defining model\n",
    "mlr = MutationalFitnessMLR(tau=4.2)\n",
    "# Defining inference method\n",
    "inference_method = ef.InferMAP(iters=200_000, lr=4e-6)\n",
    "# Fitting model - rename the posteriors/samples to tell mutational vs innovation \n",
    "posterior_mut = inference_method.fit(mlr, variant_frequencies_mut)\n",
    "samples_mut = posterior_mut.samples"
   ]
  },
  {
   "cell_type": "code",
   "execution_count": 10,
   "id": "48cfc8f6",
   "metadata": {},
   "outputs": [],
   "source": [
    "# defining the growth advantages\n",
    "mut_ga = pd.DataFrame(\n",
    "    ef.posterior.get_growth_advantage(samples_mut, posterior_mut.data, ps=[0.8], name=\"USA\", rel_to=\"BA.2\")\n",
    ")"
   ]
  },
  {
   "cell_type": "code",
   "execution_count": 11,
   "id": "c4db457f",
   "metadata": {},
   "outputs": [
    {
     "data": {
      "text/html": [
       "<div>\n",
       "<style scoped>\n",
       "    .dataframe tbody tr th:only-of-type {\n",
       "        vertical-align: middle;\n",
       "    }\n",
       "\n",
       "    .dataframe tbody tr th {\n",
       "        vertical-align: top;\n",
       "    }\n",
       "\n",
       "    .dataframe thead th {\n",
       "        text-align: right;\n",
       "    }\n",
       "</style>\n",
       "<table border=\"1\" class=\"dataframe\">\n",
       "  <thead>\n",
       "    <tr style=\"text-align: right;\">\n",
       "      <th></th>\n",
       "      <th>location</th>\n",
       "      <th>variant</th>\n",
       "      <th>median_ga</th>\n",
       "      <th>ga_upper_80</th>\n",
       "      <th>ga_lower_80</th>\n",
       "    </tr>\n",
       "  </thead>\n",
       "  <tbody>\n",
       "    <tr>\n",
       "      <th>0</th>\n",
       "      <td>USA</td>\n",
       "      <td>BA.1</td>\n",
       "      <td>24.950214</td>\n",
       "      <td>24.950214</td>\n",
       "      <td>24.950214</td>\n",
       "    </tr>\n",
       "    <tr>\n",
       "      <th>1</th>\n",
       "      <td>USA</td>\n",
       "      <td>BA.1.1</td>\n",
       "      <td>3.3149402</td>\n",
       "      <td>3.3149402</td>\n",
       "      <td>3.3149402</td>\n",
       "    </tr>\n",
       "    <tr>\n",
       "      <th>2</th>\n",
       "      <td>USA</td>\n",
       "      <td>BA.1.1.1</td>\n",
       "      <td>0.65276444</td>\n",
       "      <td>0.65276444</td>\n",
       "      <td>0.65276444</td>\n",
       "    </tr>\n",
       "    <tr>\n",
       "      <th>3</th>\n",
       "      <td>USA</td>\n",
       "      <td>BA.1.1.10</td>\n",
       "      <td>3.898409</td>\n",
       "      <td>3.898409</td>\n",
       "      <td>3.898409</td>\n",
       "    </tr>\n",
       "    <tr>\n",
       "      <th>4</th>\n",
       "      <td>USA</td>\n",
       "      <td>BA.1.1.14</td>\n",
       "      <td>1.5697892</td>\n",
       "      <td>1.5697892</td>\n",
       "      <td>1.5697892</td>\n",
       "    </tr>\n",
       "    <tr>\n",
       "      <th>...</th>\n",
       "      <td>...</td>\n",
       "      <td>...</td>\n",
       "      <td>...</td>\n",
       "      <td>...</td>\n",
       "      <td>...</td>\n",
       "    </tr>\n",
       "    <tr>\n",
       "      <th>171</th>\n",
       "      <td>USA</td>\n",
       "      <td>BQ.1.13</td>\n",
       "      <td>89.7162</td>\n",
       "      <td>89.7162</td>\n",
       "      <td>89.7162</td>\n",
       "    </tr>\n",
       "    <tr>\n",
       "      <th>172</th>\n",
       "      <td>USA</td>\n",
       "      <td>BQ.1.14</td>\n",
       "      <td>33.486904</td>\n",
       "      <td>33.486904</td>\n",
       "      <td>33.486904</td>\n",
       "    </tr>\n",
       "    <tr>\n",
       "      <th>173</th>\n",
       "      <td>USA</td>\n",
       "      <td>BQ.1.2</td>\n",
       "      <td>209.37328</td>\n",
       "      <td>209.37328</td>\n",
       "      <td>209.37328</td>\n",
       "    </tr>\n",
       "    <tr>\n",
       "      <th>174</th>\n",
       "      <td>USA</td>\n",
       "      <td>BQ.1.3</td>\n",
       "      <td>11.146412</td>\n",
       "      <td>11.146412</td>\n",
       "      <td>11.146412</td>\n",
       "    </tr>\n",
       "    <tr>\n",
       "      <th>175</th>\n",
       "      <td>USA</td>\n",
       "      <td>BQ.1.6</td>\n",
       "      <td>63.270065</td>\n",
       "      <td>63.270065</td>\n",
       "      <td>63.270065</td>\n",
       "    </tr>\n",
       "  </tbody>\n",
       "</table>\n",
       "<p>176 rows × 5 columns</p>\n",
       "</div>"
      ],
      "text/plain": [
       "    location    variant   median_ga ga_upper_80 ga_lower_80\n",
       "0        USA       BA.1   24.950214   24.950214   24.950214\n",
       "1        USA     BA.1.1   3.3149402   3.3149402   3.3149402\n",
       "2        USA   BA.1.1.1  0.65276444  0.65276444  0.65276444\n",
       "3        USA  BA.1.1.10    3.898409    3.898409    3.898409\n",
       "4        USA  BA.1.1.14   1.5697892   1.5697892   1.5697892\n",
       "..       ...        ...         ...         ...         ...\n",
       "171      USA    BQ.1.13     89.7162     89.7162     89.7162\n",
       "172      USA    BQ.1.14   33.486904   33.486904   33.486904\n",
       "173      USA     BQ.1.2   209.37328   209.37328   209.37328\n",
       "174      USA     BQ.1.3   11.146412   11.146412   11.146412\n",
       "175      USA     BQ.1.6   63.270065   63.270065   63.270065\n",
       "\n",
       "[176 rows x 5 columns]"
      ]
     },
     "execution_count": 11,
     "metadata": {},
     "output_type": "execute_result"
    }
   ],
   "source": [
    "#viewing mutational ga df\n",
    "mut_ga"
   ]
  },
  {
   "cell_type": "markdown",
   "id": "1d992989",
   "metadata": {},
   "source": [
    "### Looking at Loss of Model "
   ]
  },
  {
   "cell_type": "code",
   "execution_count": 12,
   "id": "6f20606c",
   "metadata": {},
   "outputs": [
    {
     "data": {
      "image/png": "[encoded data removed]",
      "text/plain": [
       "<Figure size 640x480 with 1 Axes>"
      ]
     },
     "metadata": {},
     "output_type": "display_data"
    }
   ],
   "source": [
    "plt.plot(posterior_mut.samples['losses'])\n",
    "plt.yscale(\"log\")"
   ]
  },
  {
   "cell_type": "markdown",
   "id": "bb1c0b08",
   "metadata": {},
   "source": [
    "### Looking at Presence of Mutations in Different Variants"
   ]
  },
  {
   "cell_type": "code",
   "execution_count": null,
   "id": "cacc4fd0",
   "metadata": {},
   "outputs": [],
   "source": [
    "fig, ax = plt.subplots(figsize=(50,50))\n",
    "im = ax.imshow(variant_frequencies_mut.mutation_presence, cmap=\"PuBu\")\n",
    "ax.set_yticks(np.arange(len(variant_frequencies_mut.var_names)), \n",
    "              labels=variant_frequencies_mut.var_names)\n",
    "ax.set_xticks(np.arange(len(variant_frequencies_mut.mut_names)), \n",
    "              labels=variant_frequencies_mut.mut_names)\n",
    "plt.setp(ax.get_xticklabels(),\n",
    "         rotation = 90,\n",
    "         ha = \"right\",\n",
    "         rotation_mode = \"anchor\")\n",
    "ax.set_title(\"Mutation Presence in Variants\", \n",
    "             size=50)\n",
    "fig.tight_layout()\n",
    "plt.savefig(\"mutation_presence_heatmap.png\",format='png',dpi=150)"
   ]
  },
  {
   "cell_type": "markdown",
   "id": "fa46e553",
   "metadata": {},
   "source": [
    "# Assigning individual fitnesses to each mutation"
   ]
  },
  {
   "cell_type": "code",
   "execution_count": null,
   "id": "6e199962",
   "metadata": {},
   "outputs": [],
   "source": [
    "# Grabbing fitness for each mutation, in sorted order\n",
    "def mutations(samples, data):\n",
    "    rows_for_tsv = []\n",
    "    delta = jnp.median(samples[\"raw_delta\"], axis=0)\n",
    "    idx = (-delta).argsort()[:len(delta)]\n",
    "    for i in idx:\n",
    "        array = delta[i]\n",
    "        rows_for_tsv.append({'mutation':data.mut_names[i], 'fitness_effect':array})\n",
    "    return rows_for_tsv\n",
    "table = mutations(samples_mut, variant_frequencies_mut)\n",
    "mutations_table = pd.DataFrame(table)"
   ]
  },
  {
   "cell_type": "code",
   "execution_count": null,
   "id": "9f960dbc",
   "metadata": {},
   "outputs": [],
   "source": [
    "# creating summary table with variant name, variant ga, mutation, mutation fitness\n",
    "final_table = pd.merge(mut_ga, raw_muts, on=\"variant\")\n",
    "final_table = pd.merge(final_table, mutations_table, on=\"mutation\")\n",
    "final_table = final_table.drop(final_table.columns[0], axis=1)\n",
    "final_table = final_table.drop(final_table.columns[2], axis=1)\n",
    "final_table = final_table.drop(final_table.columns[2], axis=1)\n",
    "# renaming the table\n",
    "mutations_summary = final_table"
   ]
  },
  {
   "cell_type": "code",
   "execution_count": null,
   "id": "3e577c0d",
   "metadata": {},
   "outputs": [],
   "source": [
    "# viewing table of mutation fitnesses\n",
    "mutations_summary"
   ]
  },
  {
   "cell_type": "markdown",
   "id": "3c179812",
   "metadata": {},
   "source": [
    "# Assigning innovation GA to variants"
   ]
  },
  {
   "cell_type": "code",
   "execution_count": null,
   "id": "c3109aea",
   "metadata": {},
   "outputs": [],
   "source": [
    "# Getting data\n",
    "raw_seq_innov = pd.read_csv(\"../count-data/pango_location-variant-sequence-counts.tsv\", sep=\"\\t\")\n",
    "# raw_variant_parents is missing a row for BA.2, so append one\n",
    "raw_variant_parents = pd.concat((pd.read_csv(\"../count-data/pango_variant-relationships.tsv\", sep=\"\\t\"),\n",
    "                                pd.DataFrame({\"variant\": [\"BA.2\"], \"parent\": [\"base\"]}))).reset_index(drop=True)\n",
    "variant_frequencies_innov = ef.InnovationSequenceCounts(raw_seq_innov, raw_variant_parents, pivot=\"BA.2\")"
   ]
  },
  {
   "cell_type": "code",
   "execution_count": null,
   "id": "059bbfcd",
   "metadata": {},
   "outputs": [],
   "source": [
    "# Defining model\n",
    "mlr = ef.InnovationMLR(tau=4.2)\n",
    "# Defining inference method\n",
    "inference_method = ef.InferMAP(iters=50_000, lr=4e-3)\n",
    "# Fitting model\n",
    "posterior_innov = inference_method.fit(mlr, variant_frequencies_innov)\n",
    "samples_innov = posterior_innov.samples"
   ]
  },
  {
   "cell_type": "code",
   "execution_count": null,
   "id": "e6c282ef",
   "metadata": {},
   "outputs": [],
   "source": [
    "innovation_ga = pd.DataFrame(\n",
    "    ef.posterior.get_growth_advantage(samples_innov, posterior_innov.data, ps=[0.8], name=\"USA\", rel_to=\"BA.2\")\n",
    ")"
   ]
  },
  {
   "cell_type": "code",
   "execution_count": null,
   "id": "af7d8e19",
   "metadata": {},
   "outputs": [],
   "source": [
    "#viewing innovation ga df\n",
    "innovation_ga"
   ]
  },
  {
   "cell_type": "markdown",
   "id": "36d74f2e",
   "metadata": {},
   "source": [
    "# Comparing Innovation and Mutational Growth Advantages"
   ]
  },
  {
   "cell_type": "code",
   "execution_count": null,
   "id": "75eea183",
   "metadata": {},
   "outputs": [],
   "source": [
    "# resolving weird formatting issues btwn csv and loading pandas df??\n",
    "mut_ga.to_csv('mut_ga.tsv', sep=\"\\t\")\n",
    "innovation_ga.to_csv('innov_ga.tsv', sep=\"\\t\")"
   ]
  },
  {
   "cell_type": "code",
   "execution_count": null,
   "id": "1ad33244",
   "metadata": {},
   "outputs": [],
   "source": [
    "# loading in datasets\n",
    "parent_variant_relationships = pd.read_csv(\"../count-data/pango_variant-relationships.tsv\", sep=\"\\t\").set_index(\"variant\")\n",
    "mut_ga = pd.read_csv(\"mut_ga.tsv\", sep=\"\\t\")\n",
    "innovation_ga = pd.read_csv(\"innov_ga.tsv\", sep=\"\\t\")"
   ]
  },
  {
   "cell_type": "code",
   "execution_count": null,
   "id": "bbc85221",
   "metadata": {},
   "outputs": [],
   "source": [
    "# Prep to merge\n",
    "def clean_and_merge(innovation_ga, mut_ga, parent_variant_relationships):\n",
    "    innovation_ga = (innovation_ga\n",
    "                     .rename(columns={\"median_ga\": \"innov-ga\"})\n",
    "                     [[\"variant\", \"innov-ga\"]])\n",
    "\n",
    "    mut_ga = (mut_ga\n",
    "              .rename(columns={\"median_ga\": \"mut-ga\"})\n",
    "              [[\"variant\", \"mut-ga\"]])\n",
    "\n",
    "    ga_df = innovation_ga.merge(mut_ga, how=\"right\").set_index(\"variant\")\n",
    "    ga_df[\"mut-ga\"] = ga_df[\"mut-ga\"] / ga_df.loc[\"BA.2.1\"][\"mut-ga\"] # Scale GA by BA.2.1\n",
    "\n",
    "    # Add parents\n",
    "    def _get_parent(row):\n",
    "        variant = row.name\n",
    "        if variant in parent_variant_relationships.index:\n",
    "            return parent_variant_relationships.loc[variant]\n",
    "        return \"NAN\"\n",
    "\n",
    "    ga_df[\"parent\"] = ga_df.apply(_get_parent, axis=1)\n",
    "    return ga_df"
   ]
  },
  {
   "cell_type": "code",
   "execution_count": null,
   "id": "7db1204e",
   "metadata": {},
   "outputs": [],
   "source": [
    "ga_df = clean_and_merge(innovation_ga, mut_ga, parent_variant_relationships)"
   ]
  },
  {
   "cell_type": "code",
   "execution_count": null,
   "id": "b2e8e871",
   "metadata": {},
   "outputs": [],
   "source": [
    "# Look for parent for mut-parent-ga\n",
    "def add_deltas(row, prefix):\n",
    "    # Give up if parent not found\n",
    "    if row.parent not in ga_df.index:\n",
    "        return pd.Series([np.nan, np.nan],\n",
    "                         index=[prefix + \"-parent-ga\", prefix + \"-pc-ratio\"])\n",
    "    # Get child growth advantage\n",
    "    parent_row = ga_df.loc[row.parent]\n",
    "    \n",
    "    # Return parent ga and ratio\n",
    "    return pd.Series([parent_row[prefix + \"-ga\"],  row[prefix + \"-ga\"] / parent_row[prefix + \"-ga\"]],\n",
    "                         index=[prefix + \"-parent-ga\", prefix + \"-pc-ratio\"])\n",
    "    \n",
    "ga_df[[\"mut-parent-ga\", \"mut-pc-ratio\"]] = ga_df.apply(add_deltas, prefix=\"mut\", axis=1)\n",
    "ga_df[[\"innov-parent-ga\", \"innov-pc-ratio\"]] = ga_df.apply(add_deltas, prefix=\"innov\", axis=1)"
   ]
  },
  {
   "cell_type": "code",
   "execution_count": null,
   "id": "6f021fe0",
   "metadata": {},
   "outputs": [],
   "source": [
    "def is_outlier_IQR(data, col, scale=1.5):\n",
    "    \"\"\"\n",
    "    Find wheter outliers in column col from dataframe data\n",
    "    Uses IQR rule based on normal approximation.\n",
    "    \"\"\"\n",
    "\n",
    "    Q3 = np.quantile(data[col], 0.75)\n",
    "    Q1 = np.quantile(data[col], 0.25)\n",
    "    IQR = Q3 - Q1\n",
    "    lower_bound = Q1 - scale * IQR\n",
    "    upper_bound = Q3 + scale * IQR\n",
    "    return (data[col] < lower_bound) | (data[col] > upper_bound)\n",
    "\n",
    "    \n",
    "ga_df[\"innov-mut-ratio\"] = ga_df[\"innov-ga\"] / ga_df[\"mut-ga\"]\n",
    "ga_df[\"log-innov-mut-ratio\"] = np.log(ga_df[\"innov-ga\"] / ga_df[\"mut-ga\"])\n",
    "ga_df[\"outlier\"] = is_outlier_IQR(ga_df, \"log-innov-mut-ratio\") # log-innov-mut-ratio ~ Normal()"
   ]
  },
  {
   "cell_type": "code",
   "execution_count": null,
   "id": "1ae6c50c",
   "metadata": {},
   "outputs": [],
   "source": [
    "# viewing ga_df\n",
    "ga_df"
   ]
  },
  {
   "cell_type": "markdown",
   "id": "7b2ee094",
   "metadata": {},
   "source": [
    "## Plotting mutational ga vs. innovation ga"
   ]
  },
  {
   "cell_type": "markdown",
   "id": "d3a691cc",
   "metadata": {},
   "source": [
    "Each datapoint is a variant. Red datapoints are variants in which the rato between innovation/mutational ga is considered an outlier. Therefore, red variants might indicate epistasis where blue datapoint variants would indicate no epistasis. "
   ]
  },
  {
   "cell_type": "code",
   "execution_count": null,
   "id": "85f3c028",
   "metadata": {},
   "outputs": [],
   "source": [
    "# Coloring by outlier\n",
    "plt.scatter(ga_df[\"innov-ga\"], ga_df[\"mut-ga\"], \n",
    "            color=[\"pink\" if value else \"lightblue\" for value in ga_df.outlier], \n",
    "            ec=\"k\")\n",
    "plt.plot([0.5, 2.5], [0.5, 2.5], color=\"k\", linestyle=\"--\")\n",
    "plt.xlabel(\"Innovation GA\")\n",
    "plt.ylabel(\"Mutation GA\")"
   ]
  },
  {
   "cell_type": "markdown",
   "id": "30b17341",
   "metadata": {},
   "source": [
    "# Looking at Outliers"
   ]
  },
  {
   "cell_type": "code",
   "execution_count": null,
   "id": "c9573310",
   "metadata": {},
   "outputs": [],
   "source": [
    "# Defining outliers\n",
    "outliers = ga_df[ga_df.outlier & (ga_df[\"mut-pc-ratio\"] < 0.5)]"
   ]
  },
  {
   "cell_type": "code",
   "execution_count": null,
   "id": "c7473060",
   "metadata": {},
   "outputs": [],
   "source": [
    "# Looking at outliers in bottom right with low ga\n",
    "outliers"
   ]
  },
  {
   "cell_type": "markdown",
   "id": "d120d4c3",
   "metadata": {},
   "source": [
    "# Verifying Outlier Mutational GA Assignments"
   ]
  },
  {
   "cell_type": "markdown",
   "id": "b90f5225",
   "metadata": {},
   "source": [
    "Given that:\n",
    "\n",
    "    relative_fitness_variant = sum(mutational_fitness for mutation in variant)\n",
    "    mutational_ga_variant = exp(relative_fitness_variant * generation_time)\n",
    "    generation_time is fixed at 4.2\n",
    "\n",
    "The calculated_ga variable for each variant is assigned using the equation above. "
   ]
  },
  {
   "cell_type": "code",
   "execution_count": null,
   "id": "70a592b7",
   "metadata": {},
   "outputs": [],
   "source": [
    "# compiling outlier summary table with indv fitnesses and mutational ga\n",
    "outlier_variants = ga_df[ga_df[\"outlier\"]].index\n",
    "# just look at the outliers if there are any\n",
    "# take the entire dataset if no outliers\n",
    "if len(outlier_variants) < 1:\n",
    "    outlier_variants = ga_df.index\n",
    "\n",
    "# group by variants\n",
    "grouped = mutations_summary.groupby('variant')\n",
    "# final df\n",
    "rows_for_tsv = []\n",
    "for name, group in grouped:\n",
    "    if name in outlier_variants:\n",
    "        variant_dict = {}\n",
    "        mutations = group['mutation']\n",
    "        variant_dict['variant'] = name\n",
    "        mut_ga = group['median_ga'].iloc[0]\n",
    "        variant_dict['mut_ga'] = mut_ga\n",
    "        cum_sum = 0\n",
    "        for m in mutations:\n",
    "            # grabbing the fitness effect  of each mutation\n",
    "            fitness_effect = group.loc[group['mutation'] == m, 'fitness_effect'].iloc[0]\n",
    "            variant_dict[m] = fitness_effect\n",
    "            # summing up all mutation fitnesses\n",
    "            cum_sum += fitness_effect\n",
    "        # multiply by generation time and raise e to this number\n",
    "        calculated_ga = math.exp(cum_sum * 4.2)\n",
    "        variant_dict['calculated_ga'] = calculated_ga\n",
    "        variant_dict['match'] = (mut_ga == calculated_ga)\n",
    "        rows_for_tsv.append(variant_dict)\n",
    "resulting_table = pd.DataFrame(rows_for_tsv)      "
   ]
  },
  {
   "cell_type": "code",
   "execution_count": null,
   "id": "e2b5d344",
   "metadata": {},
   "outputs": [],
   "source": [
    "#aesthetic changes to the summary df\n",
    "\n",
    "# moving mut_ga to end \n",
    "cols_at_end = ['calculated_ga', 'mut_ga', 'match']\n",
    "resulting_table = resulting_table[[c for c in resulting_table if c not in cols_at_end] \n",
    "        + [c for c in cols_at_end if c in resulting_table]]\n",
    "# concatenating innovation ga column info \n",
    "if len(ga_df[ga_df[\"outlier\"]].index) < 1:\n",
    "    # take entire dataset if no outliers exist\n",
    "    trimmed = ga_df.drop(columns=['mut-ga','parent','mut-parent-ga','mut-pc-ratio','innov-parent-ga','innov-pc-ratio','innov-mut-ratio','log-innov-mut-ratio','outlier'])\n",
    "else:\n",
    "    # just look at the outliers if there are any\n",
    "    trimmed = ga_df[ga_df[\"outlier\"]].drop(columns=['mut-ga','parent','mut-parent-ga','mut-pc-ratio','innov-parent-ga','innov-pc-ratio','innov-mut-ratio','log-innov-mut-ratio','outlier'])\n",
    "\n",
    "merged = pd.merge(resulting_table, trimmed, on=\"variant\", how=\"left\")\n",
    "resulting_table = merged"
   ]
  },
  {
   "cell_type": "code",
   "execution_count": null,
   "id": "75507610",
   "metadata": {},
   "outputs": [],
   "source": [
    "# viewing mutational fitnesses for outliers\n",
    "resulting_table"
   ]
  },
  {
   "cell_type": "code",
   "execution_count": null,
   "id": "29615a22",
   "metadata": {},
   "outputs": [],
   "source": [
    "# saving summary table to csv\n",
    "resulting_table.to_csv('reformatted_table.tsv', sep='\\t')"
   ]
  }
 ],
 "metadata": {
  "kernelspec": {
   "display_name": "Python 3 (ipykernel)",
   "language": "python",
   "name": "python3"
  },
  "language_info": {
   "codemirror_mode": {
    "name": "ipython",
    "version": 3
   },
   "file_extension": ".py",
   "mimetype": "text/x-python",
   "name": "python",
   "nbconvert_exporter": "python",
   "pygments_lexer": "ipython3",
   "version": "3.9.13"
  }
 },
 "nbformat": 4,
 "nbformat_minor": 5
}
