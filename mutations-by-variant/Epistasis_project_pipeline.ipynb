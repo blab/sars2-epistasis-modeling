{
 "cells": [
  {
   "cell_type": "code",
   "execution_count": 1,
   "id": "cd71e533",
   "metadata": {},
   "outputs": [],
   "source": [
    "import pandas as pd\n",
    "import numpy as np\n",
    "import matplotlib.pyplot as plt\n",
    "from itertools import combinations\n",
    "from augur.utils import json_to_tree\n",
    "import json\n",
    "import math"
   ]
  },
  {
   "cell_type": "markdown",
   "id": "25a871b5",
   "metadata": {},
   "source": [
    "# Grabbing accumulated mutations for each variant"
   ]
  },
  {
   "cell_type": "code",
   "execution_count": 24,
   "id": "99c7663a",
   "metadata": {
    "scrolled": false
   },
   "outputs": [],
   "source": [
    "# There are multiple internal nodes with value BA.2\n",
    "END_NODE = \"NODE_0000260\"\n",
    "#END_NODE = [\"NODE_0000260\", \"NODE_0000261\", \"NODE_0000265\",\"NODE_0000267\",\"NODE_0000271\",\"internal_c1ab\",\"NODE_0000284\",\"NODE_0000285\"]\n",
    "\n",
    "#grab lineage of tip node\n",
    "def find_lineage(tree, child_node, rows_for_tsv):\n",
    "    gene_muts = {}\n",
    "    node_path = tree.get_path(child_node)\n",
    "    # remove all elements of path before terminal node if it exists\n",
    "    end_node = [j for j in node_path if j.name in END_NODE]\n",
    "    if len(end_node) != 0:\n",
    "        end_node = end_node[0]\n",
    "        node_path = node_path[node_path.index(end_node)+1:]\n",
    "       # do not include child node in path\n",
    "        i = len(node_path) - 1\n",
    "        # add all mutations in split path to list\n",
    "        while (i >= 0):\n",
    "            gene_muts = format_string(node_path[i].branch_attrs['mutations'],'nuc', gene_muts)\n",
    "            i = i - 1\n",
    "        #append variant name, mutation, and region to list\n",
    "        for k in gene_muts.keys():\n",
    "            for j in range(len(gene_muts[k])):\n",
    "                temp_dict = gene_muts[k]\n",
    "                mut =  str(temp_dict[j]) + '_' + str(k)\n",
    "                rows_for_tsv.append({'variant': child_node.name, 'mutation': mut})\n",
    "\n",
    "#put all the same gene mutations in the same list\n",
    "def format_string(dict, key, gene_muts):\n",
    "    for k in dict.keys():\n",
    "        if (str(k) != key):\n",
    "            if k not in gene_muts.keys():\n",
    "                gene_muts[k] = []\n",
    "            for j in range(len(dict[k])):\n",
    "                temp_dict = dict[k]\n",
    "                gene_muts[k].append(temp_dict[j])\n",
    "    return gene_muts\n",
    "\n",
    "if __name__ == '__main__':\n",
    "    #read in tree\n",
    "    with open(f'../mutations-by-variant/pango_lineages.json', 'r') as f:\n",
    "        tree_json = json.load(f)\n",
    "    #put tree in Bio.Phylo format\n",
    "    tree = json_to_tree(tree_json)\n",
    "    #create list of dictionaries for dataframe\n",
    "    rows_for_tsv = []\n",
    "    for tip in tree.find_clades(terminal=True):\n",
    "        #append new row for every mutation in every child node\n",
    "        find_lineage(tree, tip, rows_for_tsv)\n",
    "    #make pandas dataframe from list of dicts\n",
    "    accumulated_mutations = pd.DataFrame(rows_for_tsv)"
   ]
  },
  {
   "cell_type": "code",
   "execution_count": 25,
   "id": "12ce1bbb",
   "metadata": {},
   "outputs": [
    {
     "data": {
      "text/html": [
       "<div>\n",
       "<style scoped>\n",
       "    .dataframe tbody tr th:only-of-type {\n",
       "        vertical-align: middle;\n",
       "    }\n",
       "\n",
       "    .dataframe tbody tr th {\n",
       "        vertical-align: top;\n",
       "    }\n",
       "\n",
       "    .dataframe thead th {\n",
       "        text-align: right;\n",
       "    }\n",
       "</style>\n",
       "<table border=\"1\" class=\"dataframe\">\n",
       "  <thead>\n",
       "    <tr style=\"text-align: right;\">\n",
       "      <th></th>\n",
       "      <th>variant</th>\n",
       "      <th>mutation</th>\n",
       "    </tr>\n",
       "  </thead>\n",
       "  <tbody>\n",
       "    <tr>\n",
       "      <th>0</th>\n",
       "      <td>BA.2.15</td>\n",
       "      <td>T3150I_ORF1a</td>\n",
       "    </tr>\n",
       "    <tr>\n",
       "      <th>1</th>\n",
       "      <td>BA.2.15</td>\n",
       "      <td>W64L_S</td>\n",
       "    </tr>\n",
       "    <tr>\n",
       "      <th>2</th>\n",
       "      <td>BA.2.16</td>\n",
       "      <td>T296I_N</td>\n",
       "    </tr>\n",
       "    <tr>\n",
       "      <th>3</th>\n",
       "      <td>BA.2.16</td>\n",
       "      <td>V84-_ORF1a</td>\n",
       "    </tr>\n",
       "    <tr>\n",
       "      <th>4</th>\n",
       "      <td>BA.2.16</td>\n",
       "      <td>M85-_ORF1a</td>\n",
       "    </tr>\n",
       "    <tr>\n",
       "      <th>...</th>\n",
       "      <td>...</td>\n",
       "      <td>...</td>\n",
       "    </tr>\n",
       "    <tr>\n",
       "      <th>5167</th>\n",
       "      <td>CK.2.1.1</td>\n",
       "      <td>V62F_E</td>\n",
       "    </tr>\n",
       "    <tr>\n",
       "      <th>5168</th>\n",
       "      <td>CK.2.1.1</td>\n",
       "      <td>T1050N_ORF1b</td>\n",
       "    </tr>\n",
       "    <tr>\n",
       "      <th>5169</th>\n",
       "      <td>CK.2.1.1</td>\n",
       "      <td>D16G_ORF9b</td>\n",
       "    </tr>\n",
       "    <tr>\n",
       "      <th>5170</th>\n",
       "      <td>CK.2.1.1</td>\n",
       "      <td>D3N_M</td>\n",
       "    </tr>\n",
       "    <tr>\n",
       "      <th>5171</th>\n",
       "      <td>CK.2.1.1</td>\n",
       "      <td>L61D_ORF6</td>\n",
       "    </tr>\n",
       "  </tbody>\n",
       "</table>\n",
       "<p>5172 rows × 2 columns</p>\n",
       "</div>"
      ],
      "text/plain": [
       "       variant      mutation\n",
       "0      BA.2.15  T3150I_ORF1a\n",
       "1      BA.2.15        W64L_S\n",
       "2      BA.2.16       T296I_N\n",
       "3      BA.2.16    V84-_ORF1a\n",
       "4      BA.2.16    M85-_ORF1a\n",
       "...        ...           ...\n",
       "5167  CK.2.1.1        V62F_E\n",
       "5168  CK.2.1.1  T1050N_ORF1b\n",
       "5169  CK.2.1.1    D16G_ORF9b\n",
       "5170  CK.2.1.1         D3N_M\n",
       "5171  CK.2.1.1     L61D_ORF6\n",
       "\n",
       "[5172 rows x 2 columns]"
      ]
     },
     "execution_count": 25,
     "metadata": {},
     "output_type": "execute_result"
    }
   ],
   "source": [
    "#viewing accumulated mutations df\n",
    "accumulated_mutations.to_csv(\"accumulated_mutations_output.tsv\", sep=\"\\t\")\n",
    "accumulated_mutations"
   ]
  },
  {
   "cell_type": "markdown",
   "id": "cd35ed99",
   "metadata": {},
   "source": [
    "# Assigning Mutational GAs to each variant"
   ]
  },
  {
   "cell_type": "code",
   "execution_count": 4,
   "id": "92cd6099",
   "metadata": {},
   "outputs": [],
   "source": [
    "import jax.numpy as jnp\n",
    "import numpy as np\n",
    "import evofr as ef\n",
    "from evofr.models.mutational_fitness_mlr import MutationalFitnessMLR, MutationalFitnessSequenceCounts"
   ]
  },
  {
   "cell_type": "code",
   "execution_count": 27,
   "id": "ecb953ea",
   "metadata": {},
   "outputs": [],
   "source": [
    "# Getting data\n",
    "raw_seq = pd.read_csv(\"../../sars2-epistasis-modeling/count-data/pango_location-variant-sequence-counts.tsv\", sep=\"\\t\")\n",
    "raw_seq = raw_seq[~raw_seq.variant.str.startswith(\"X\")]\n",
    "raw_muts = accumulated_mutations\n",
    "variant_frequencies = MutationalFitnessSequenceCounts(raw_seq, raw_muts)"
   ]
  },
  {
   "cell_type": "code",
   "execution_count": 28,
   "id": "19ef1f32",
   "metadata": {},
   "outputs": [
    {
     "ename": "ValueError",
     "evalue": "MultinomialProbs distribution got invalid probs parameter.",
     "output_type": "error",
     "traceback": [
      "\u001b[0;31m---------------------------------------------------------------------------\u001b[0m",
      "\u001b[0;31mValueError\u001b[0m                                Traceback (most recent call last)",
      "Cell \u001b[0;32mIn[28], line 6\u001b[0m\n\u001b[1;32m      4\u001b[0m inference_method \u001b[38;5;241m=\u001b[39m ef\u001b[38;5;241m.\u001b[39mInferMAP(iters\u001b[38;5;241m=\u001b[39m\u001b[38;5;241m100_000\u001b[39m, lr\u001b[38;5;241m=\u001b[39m\u001b[38;5;241m4e-4\u001b[39m)\n\u001b[1;32m      5\u001b[0m \u001b[38;5;66;03m# Fitting model\u001b[39;00m\n\u001b[0;32m----> 6\u001b[0m posterior \u001b[38;5;241m=\u001b[39m \u001b[43minference_method\u001b[49m\u001b[38;5;241;43m.\u001b[39;49m\u001b[43mfit\u001b[49m\u001b[43m(\u001b[49m\u001b[43mmlr\u001b[49m\u001b[43m,\u001b[49m\u001b[43m \u001b[49m\u001b[43mvariant_frequencies\u001b[49m\u001b[43m)\u001b[49m\n\u001b[1;32m      7\u001b[0m samples \u001b[38;5;241m=\u001b[39m posterior\u001b[38;5;241m.\u001b[39msamples\n",
      "File \u001b[0;32m~/miniconda3/envs/nextstrain-workflow/lib/python3.9/site-packages/evofr/infer/InferSVI.py:77\u001b[0m, in \u001b[0;36mInferSVI.fit\u001b[0;34m(self, model, data, name)\u001b[0m\n\u001b[1;32m     74\u001b[0m guide \u001b[38;5;241m=\u001b[39m \u001b[38;5;28mself\u001b[39m\u001b[38;5;241m.\u001b[39mguide_fn(model\u001b[38;5;241m.\u001b[39mmodel_fn)\n\u001b[1;32m     76\u001b[0m \u001b[38;5;66;03m# Fit model and retrieve samples\u001b[39;00m\n\u001b[0;32m---> 77\u001b[0m \u001b[38;5;28;43mself\u001b[39;49m\u001b[38;5;241;43m.\u001b[39;49m\u001b[43mhandler\u001b[49m\u001b[38;5;241;43m.\u001b[39;49m\u001b[43mfit\u001b[49m\u001b[43m(\u001b[49m\u001b[43mmodel\u001b[49m\u001b[38;5;241;43m.\u001b[39;49m\u001b[43mmodel_fn\u001b[49m\u001b[43m,\u001b[49m\u001b[43m \u001b[49m\u001b[43mguide\u001b[49m\u001b[43m,\u001b[49m\u001b[43m \u001b[49m\u001b[38;5;28;43minput\u001b[39;49m\u001b[43m,\u001b[49m\u001b[43m \u001b[49m\u001b[38;5;28;43mself\u001b[39;49m\u001b[38;5;241;43m.\u001b[39;49m\u001b[43miters\u001b[49m\u001b[43m)\u001b[49m\n\u001b[1;32m     78\u001b[0m samples \u001b[38;5;241m=\u001b[39m \u001b[38;5;28mself\u001b[39m\u001b[38;5;241m.\u001b[39mhandler\u001b[38;5;241m.\u001b[39mpredict(\n\u001b[1;32m     79\u001b[0m     model\u001b[38;5;241m.\u001b[39mmodel_fn, guide, \u001b[38;5;28minput\u001b[39m, num_samples\u001b[38;5;241m=\u001b[39m\u001b[38;5;28mself\u001b[39m\u001b[38;5;241m.\u001b[39mnum_samples\n\u001b[1;32m     80\u001b[0m )\n\u001b[1;32m     81\u001b[0m samples[\u001b[38;5;124m\"\u001b[39m\u001b[38;5;124mlosses\u001b[39m\u001b[38;5;124m\"\u001b[39m] \u001b[38;5;241m=\u001b[39m \u001b[38;5;28mself\u001b[39m\u001b[38;5;241m.\u001b[39mhandler\u001b[38;5;241m.\u001b[39mlosses\n",
      "File \u001b[0;32m~/miniconda3/envs/nextstrain-workflow/lib/python3.9/site-packages/evofr/infer/SVI_handler.py:51\u001b[0m, in \u001b[0;36mSVIHandler.fit\u001b[0;34m(self, model, guide, data, n_epochs)\u001b[0m\n\u001b[1;32m     48\u001b[0m \u001b[38;5;28;01mdef\u001b[39;00m \u001b[38;5;21mfit\u001b[39m(\n\u001b[1;32m     49\u001b[0m     \u001b[38;5;28mself\u001b[39m, model: Callable, guide: AutoGuide, data: \u001b[38;5;28mdict\u001b[39m, n_epochs: \u001b[38;5;28mint\u001b[39m\n\u001b[1;32m     50\u001b[0m ):\n\u001b[0;32m---> 51\u001b[0m     \u001b[38;5;28;43mself\u001b[39;49m\u001b[38;5;241;43m.\u001b[39;49m\u001b[43minit_svi\u001b[49m\u001b[43m(\u001b[49m\u001b[43mmodel\u001b[49m\u001b[43m,\u001b[49m\u001b[43m \u001b[49m\u001b[43mguide\u001b[49m\u001b[43m,\u001b[49m\u001b[43m \u001b[49m\u001b[43mdata\u001b[49m\u001b[43m)\u001b[49m\n\u001b[1;32m     52\u001b[0m     \u001b[38;5;28mself\u001b[39m\u001b[38;5;241m.\u001b[39msvi_result \u001b[38;5;241m=\u001b[39m \u001b[38;5;28mself\u001b[39m\u001b[38;5;241m.\u001b[39msvi\u001b[38;5;241m.\u001b[39mrun(\n\u001b[1;32m     53\u001b[0m         \u001b[38;5;28mself\u001b[39m\u001b[38;5;241m.\u001b[39mrng_key,\n\u001b[1;32m     54\u001b[0m         n_epochs,\n\u001b[0;32m   (...)\u001b[0m\n\u001b[1;32m     57\u001b[0m         stable_update\u001b[38;5;241m=\u001b[39m\u001b[38;5;28;01mTrue\u001b[39;00m\n\u001b[1;32m     58\u001b[0m     )\n\u001b[1;32m     59\u001b[0m     \u001b[38;5;28mself\u001b[39m\u001b[38;5;241m.\u001b[39msvi_state \u001b[38;5;241m=\u001b[39m \u001b[38;5;28mself\u001b[39m\u001b[38;5;241m.\u001b[39msvi_result\u001b[38;5;241m.\u001b[39mstate\n",
      "File \u001b[0;32m~/miniconda3/envs/nextstrain-workflow/lib/python3.9/site-packages/evofr/infer/SVI_handler.py:43\u001b[0m, in \u001b[0;36mSVIHandler.init_svi\u001b[0;34m(self, model, guide, data)\u001b[0m\n\u001b[1;32m     41\u001b[0m \u001b[38;5;28;01mdef\u001b[39;00m \u001b[38;5;21minit_svi\u001b[39m(\u001b[38;5;28mself\u001b[39m, model: Callable, guide: AutoGuide, data: \u001b[38;5;28mdict\u001b[39m):\n\u001b[1;32m     42\u001b[0m     \u001b[38;5;28mself\u001b[39m\u001b[38;5;241m.\u001b[39msvi \u001b[38;5;241m=\u001b[39m SVI(model, guide, \u001b[38;5;28mself\u001b[39m\u001b[38;5;241m.\u001b[39moptimizer, \u001b[38;5;28mself\u001b[39m\u001b[38;5;241m.\u001b[39mloss_fn)\n\u001b[0;32m---> 43\u001b[0m     svi_state \u001b[38;5;241m=\u001b[39m \u001b[38;5;28;43mself\u001b[39;49m\u001b[38;5;241;43m.\u001b[39;49m\u001b[43msvi\u001b[49m\u001b[38;5;241;43m.\u001b[39;49m\u001b[43minit\u001b[49m\u001b[43m(\u001b[49m\u001b[38;5;28;43mself\u001b[39;49m\u001b[38;5;241;43m.\u001b[39;49m\u001b[43mrng_key\u001b[49m\u001b[43m,\u001b[49m\u001b[43m \u001b[49m\u001b[38;5;241;43m*\u001b[39;49m\u001b[38;5;241;43m*\u001b[39;49m\u001b[43mdata\u001b[49m\u001b[43m)\u001b[49m\n\u001b[1;32m     44\u001b[0m     \u001b[38;5;28;01mif\u001b[39;00m \u001b[38;5;28mself\u001b[39m\u001b[38;5;241m.\u001b[39msvi_state \u001b[38;5;129;01mis\u001b[39;00m \u001b[38;5;28;01mNone\u001b[39;00m:\n\u001b[1;32m     45\u001b[0m         \u001b[38;5;28mself\u001b[39m\u001b[38;5;241m.\u001b[39msvi_state \u001b[38;5;241m=\u001b[39m svi_state\n",
      "File \u001b[0;32m~/miniconda3/envs/nextstrain-workflow/lib/python3.9/site-packages/numpyro/infer/svi.py:180\u001b[0m, in \u001b[0;36mSVI.init\u001b[0;34m(self, rng_key, *args, **kwargs)\u001b[0m\n\u001b[1;32m    178\u001b[0m model_init \u001b[38;5;241m=\u001b[39m seed(\u001b[38;5;28mself\u001b[39m\u001b[38;5;241m.\u001b[39mmodel, model_seed)\n\u001b[1;32m    179\u001b[0m guide_init \u001b[38;5;241m=\u001b[39m seed(\u001b[38;5;28mself\u001b[39m\u001b[38;5;241m.\u001b[39mguide, guide_seed)\n\u001b[0;32m--> 180\u001b[0m guide_trace \u001b[38;5;241m=\u001b[39m \u001b[43mtrace\u001b[49m\u001b[43m(\u001b[49m\u001b[43mguide_init\u001b[49m\u001b[43m)\u001b[49m\u001b[38;5;241;43m.\u001b[39;49m\u001b[43mget_trace\u001b[49m\u001b[43m(\u001b[49m\u001b[38;5;241;43m*\u001b[39;49m\u001b[43margs\u001b[49m\u001b[43m,\u001b[49m\u001b[43m \u001b[49m\u001b[38;5;241;43m*\u001b[39;49m\u001b[38;5;241;43m*\u001b[39;49m\u001b[43mkwargs\u001b[49m\u001b[43m,\u001b[49m\u001b[43m \u001b[49m\u001b[38;5;241;43m*\u001b[39;49m\u001b[38;5;241;43m*\u001b[39;49m\u001b[38;5;28;43mself\u001b[39;49m\u001b[38;5;241;43m.\u001b[39;49m\u001b[43mstatic_kwargs\u001b[49m\u001b[43m)\u001b[49m\n\u001b[1;32m    181\u001b[0m model_trace \u001b[38;5;241m=\u001b[39m trace(replay(model_init, guide_trace))\u001b[38;5;241m.\u001b[39mget_trace(\n\u001b[1;32m    182\u001b[0m     \u001b[38;5;241m*\u001b[39margs, \u001b[38;5;241m*\u001b[39m\u001b[38;5;241m*\u001b[39mkwargs, \u001b[38;5;241m*\u001b[39m\u001b[38;5;241m*\u001b[39m\u001b[38;5;28mself\u001b[39m\u001b[38;5;241m.\u001b[39mstatic_kwargs\n\u001b[1;32m    183\u001b[0m )\n\u001b[1;32m    184\u001b[0m params \u001b[38;5;241m=\u001b[39m {}\n",
      "File \u001b[0;32m~/miniconda3/envs/nextstrain-workflow/lib/python3.9/site-packages/numpyro/handlers.py:171\u001b[0m, in \u001b[0;36mtrace.get_trace\u001b[0;34m(self, *args, **kwargs)\u001b[0m\n\u001b[1;32m    163\u001b[0m \u001b[38;5;28;01mdef\u001b[39;00m \u001b[38;5;21mget_trace\u001b[39m(\u001b[38;5;28mself\u001b[39m, \u001b[38;5;241m*\u001b[39margs, \u001b[38;5;241m*\u001b[39m\u001b[38;5;241m*\u001b[39mkwargs):\n\u001b[1;32m    164\u001b[0m     \u001b[38;5;124;03m\"\"\"\u001b[39;00m\n\u001b[1;32m    165\u001b[0m \u001b[38;5;124;03m    Run the wrapped callable and return the recorded trace.\u001b[39;00m\n\u001b[1;32m    166\u001b[0m \n\u001b[0;32m   (...)\u001b[0m\n\u001b[1;32m    169\u001b[0m \u001b[38;5;124;03m    :return: `OrderedDict` containing the execution trace.\u001b[39;00m\n\u001b[1;32m    170\u001b[0m \u001b[38;5;124;03m    \"\"\"\u001b[39;00m\n\u001b[0;32m--> 171\u001b[0m     \u001b[38;5;28;43mself\u001b[39;49m\u001b[43m(\u001b[49m\u001b[38;5;241;43m*\u001b[39;49m\u001b[43margs\u001b[49m\u001b[43m,\u001b[49m\u001b[43m \u001b[49m\u001b[38;5;241;43m*\u001b[39;49m\u001b[38;5;241;43m*\u001b[39;49m\u001b[43mkwargs\u001b[49m\u001b[43m)\u001b[49m\n\u001b[1;32m    172\u001b[0m     \u001b[38;5;28;01mreturn\u001b[39;00m \u001b[38;5;28mself\u001b[39m\u001b[38;5;241m.\u001b[39mtrace\n",
      "File \u001b[0;32m~/miniconda3/envs/nextstrain-workflow/lib/python3.9/site-packages/numpyro/primitives.py:105\u001b[0m, in \u001b[0;36mMessenger.__call__\u001b[0;34m(self, *args, **kwargs)\u001b[0m\n\u001b[1;32m    103\u001b[0m     \u001b[38;5;28;01mreturn\u001b[39;00m \u001b[38;5;28mself\u001b[39m\n\u001b[1;32m    104\u001b[0m \u001b[38;5;28;01mwith\u001b[39;00m \u001b[38;5;28mself\u001b[39m:\n\u001b[0;32m--> 105\u001b[0m     \u001b[38;5;28;01mreturn\u001b[39;00m \u001b[38;5;28;43mself\u001b[39;49m\u001b[38;5;241;43m.\u001b[39;49m\u001b[43mfn\u001b[49m\u001b[43m(\u001b[49m\u001b[38;5;241;43m*\u001b[39;49m\u001b[43margs\u001b[49m\u001b[43m,\u001b[49m\u001b[43m \u001b[49m\u001b[38;5;241;43m*\u001b[39;49m\u001b[38;5;241;43m*\u001b[39;49m\u001b[43mkwargs\u001b[49m\u001b[43m)\u001b[49m\n",
      "File \u001b[0;32m~/miniconda3/envs/nextstrain-workflow/lib/python3.9/site-packages/numpyro/primitives.py:105\u001b[0m, in \u001b[0;36mMessenger.__call__\u001b[0;34m(self, *args, **kwargs)\u001b[0m\n\u001b[1;32m    103\u001b[0m     \u001b[38;5;28;01mreturn\u001b[39;00m \u001b[38;5;28mself\u001b[39m\n\u001b[1;32m    104\u001b[0m \u001b[38;5;28;01mwith\u001b[39;00m \u001b[38;5;28mself\u001b[39m:\n\u001b[0;32m--> 105\u001b[0m     \u001b[38;5;28;01mreturn\u001b[39;00m \u001b[38;5;28;43mself\u001b[39;49m\u001b[38;5;241;43m.\u001b[39;49m\u001b[43mfn\u001b[49m\u001b[43m(\u001b[49m\u001b[38;5;241;43m*\u001b[39;49m\u001b[43margs\u001b[49m\u001b[43m,\u001b[49m\u001b[43m \u001b[49m\u001b[38;5;241;43m*\u001b[39;49m\u001b[38;5;241;43m*\u001b[39;49m\u001b[43mkwargs\u001b[49m\u001b[43m)\u001b[49m\n",
      "File \u001b[0;32m~/miniconda3/envs/nextstrain-workflow/lib/python3.9/site-packages/numpyro/infer/autoguide.py:430\u001b[0m, in \u001b[0;36mAutoDelta.__call__\u001b[0;34m(self, *args, **kwargs)\u001b[0m\n\u001b[1;32m    427\u001b[0m \u001b[38;5;28;01mdef\u001b[39;00m \u001b[38;5;21m__call__\u001b[39m(\u001b[38;5;28mself\u001b[39m, \u001b[38;5;241m*\u001b[39margs, \u001b[38;5;241m*\u001b[39m\u001b[38;5;241m*\u001b[39mkwargs):\n\u001b[1;32m    428\u001b[0m     \u001b[38;5;28;01mif\u001b[39;00m \u001b[38;5;28mself\u001b[39m\u001b[38;5;241m.\u001b[39mprototype_trace \u001b[38;5;129;01mis\u001b[39;00m \u001b[38;5;28;01mNone\u001b[39;00m:\n\u001b[1;32m    429\u001b[0m         \u001b[38;5;66;03m# run model to inspect the model structure\u001b[39;00m\n\u001b[0;32m--> 430\u001b[0m         \u001b[38;5;28;43mself\u001b[39;49m\u001b[38;5;241;43m.\u001b[39;49m\u001b[43m_setup_prototype\u001b[49m\u001b[43m(\u001b[49m\u001b[38;5;241;43m*\u001b[39;49m\u001b[43margs\u001b[49m\u001b[43m,\u001b[49m\u001b[43m \u001b[49m\u001b[38;5;241;43m*\u001b[39;49m\u001b[38;5;241;43m*\u001b[39;49m\u001b[43mkwargs\u001b[49m\u001b[43m)\u001b[49m\n\u001b[1;32m    432\u001b[0m     plates \u001b[38;5;241m=\u001b[39m \u001b[38;5;28mself\u001b[39m\u001b[38;5;241m.\u001b[39m_create_plates(\u001b[38;5;241m*\u001b[39margs, \u001b[38;5;241m*\u001b[39m\u001b[38;5;241m*\u001b[39mkwargs)\n\u001b[1;32m    433\u001b[0m     result \u001b[38;5;241m=\u001b[39m {}\n",
      "File \u001b[0;32m~/miniconda3/envs/nextstrain-workflow/lib/python3.9/site-packages/numpyro/infer/autoguide.py:404\u001b[0m, in \u001b[0;36mAutoDelta._setup_prototype\u001b[0;34m(self, *args, **kwargs)\u001b[0m\n\u001b[1;32m    403\u001b[0m \u001b[38;5;28;01mdef\u001b[39;00m \u001b[38;5;21m_setup_prototype\u001b[39m(\u001b[38;5;28mself\u001b[39m, \u001b[38;5;241m*\u001b[39margs, \u001b[38;5;241m*\u001b[39m\u001b[38;5;241m*\u001b[39mkwargs):\n\u001b[0;32m--> 404\u001b[0m     \u001b[38;5;28;43msuper\u001b[39;49m\u001b[43m(\u001b[49m\u001b[43m)\u001b[49m\u001b[38;5;241;43m.\u001b[39;49m\u001b[43m_setup_prototype\u001b[49m\u001b[43m(\u001b[49m\u001b[38;5;241;43m*\u001b[39;49m\u001b[43margs\u001b[49m\u001b[43m,\u001b[49m\u001b[43m \u001b[49m\u001b[38;5;241;43m*\u001b[39;49m\u001b[38;5;241;43m*\u001b[39;49m\u001b[43mkwargs\u001b[49m\u001b[43m)\u001b[49m\n\u001b[1;32m    405\u001b[0m     \u001b[38;5;28;01mwith\u001b[39;00m numpyro\u001b[38;5;241m.\u001b[39mhandlers\u001b[38;5;241m.\u001b[39mblock():\n\u001b[1;32m    406\u001b[0m         \u001b[38;5;28mself\u001b[39m\u001b[38;5;241m.\u001b[39m_init_locs \u001b[38;5;241m=\u001b[39m {\n\u001b[1;32m    407\u001b[0m             k: v\n\u001b[1;32m    408\u001b[0m             \u001b[38;5;28;01mfor\u001b[39;00m k, v \u001b[38;5;129;01min\u001b[39;00m \u001b[38;5;28mself\u001b[39m\u001b[38;5;241m.\u001b[39m_postprocess_fn(\u001b[38;5;28mself\u001b[39m\u001b[38;5;241m.\u001b[39m_init_locs)\u001b[38;5;241m.\u001b[39mitems()\n\u001b[1;32m    409\u001b[0m             \u001b[38;5;28;01mif\u001b[39;00m k \u001b[38;5;129;01min\u001b[39;00m \u001b[38;5;28mself\u001b[39m\u001b[38;5;241m.\u001b[39m_init_locs\n\u001b[1;32m    410\u001b[0m         }\n",
      "File \u001b[0;32m~/miniconda3/envs/nextstrain-workflow/lib/python3.9/site-packages/numpyro/infer/autoguide.py:154\u001b[0m, in \u001b[0;36mAutoGuide._setup_prototype\u001b[0;34m(self, *args, **kwargs)\u001b[0m\n\u001b[1;32m    147\u001b[0m rng_key \u001b[38;5;241m=\u001b[39m numpyro\u001b[38;5;241m.\u001b[39mprng_key()\n\u001b[1;32m    148\u001b[0m \u001b[38;5;28;01mwith\u001b[39;00m handlers\u001b[38;5;241m.\u001b[39mblock():\n\u001b[1;32m    149\u001b[0m     (\n\u001b[1;32m    150\u001b[0m         init_params,\n\u001b[1;32m    151\u001b[0m         \u001b[38;5;28mself\u001b[39m\u001b[38;5;241m.\u001b[39m_potential_fn_gen,\n\u001b[1;32m    152\u001b[0m         postprocess_fn_gen,\n\u001b[1;32m    153\u001b[0m         \u001b[38;5;28mself\u001b[39m\u001b[38;5;241m.\u001b[39mprototype_trace,\n\u001b[0;32m--> 154\u001b[0m     ) \u001b[38;5;241m=\u001b[39m \u001b[43minitialize_model\u001b[49m\u001b[43m(\u001b[49m\n\u001b[1;32m    155\u001b[0m \u001b[43m        \u001b[49m\u001b[43mrng_key\u001b[49m\u001b[43m,\u001b[49m\n\u001b[1;32m    156\u001b[0m \u001b[43m        \u001b[49m\u001b[38;5;28;43mself\u001b[39;49m\u001b[38;5;241;43m.\u001b[39;49m\u001b[43mmodel\u001b[49m\u001b[43m,\u001b[49m\n\u001b[1;32m    157\u001b[0m \u001b[43m        \u001b[49m\u001b[43minit_strategy\u001b[49m\u001b[38;5;241;43m=\u001b[39;49m\u001b[38;5;28;43mself\u001b[39;49m\u001b[38;5;241;43m.\u001b[39;49m\u001b[43minit_loc_fn\u001b[49m\u001b[43m,\u001b[49m\n\u001b[1;32m    158\u001b[0m \u001b[43m        \u001b[49m\u001b[43mdynamic_args\u001b[49m\u001b[38;5;241;43m=\u001b[39;49m\u001b[38;5;28;43;01mTrue\u001b[39;49;00m\u001b[43m,\u001b[49m\n\u001b[1;32m    159\u001b[0m \u001b[43m        \u001b[49m\u001b[43mmodel_args\u001b[49m\u001b[38;5;241;43m=\u001b[39;49m\u001b[43margs\u001b[49m\u001b[43m,\u001b[49m\n\u001b[1;32m    160\u001b[0m \u001b[43m        \u001b[49m\u001b[43mmodel_kwargs\u001b[49m\u001b[38;5;241;43m=\u001b[39;49m\u001b[43mkwargs\u001b[49m\u001b[43m,\u001b[49m\n\u001b[1;32m    161\u001b[0m \u001b[43m    \u001b[49m\u001b[43m)\u001b[49m\n\u001b[1;32m    162\u001b[0m \u001b[38;5;28mself\u001b[39m\u001b[38;5;241m.\u001b[39m_potential_fn \u001b[38;5;241m=\u001b[39m \u001b[38;5;28mself\u001b[39m\u001b[38;5;241m.\u001b[39m_potential_fn_gen(\u001b[38;5;241m*\u001b[39margs, \u001b[38;5;241m*\u001b[39m\u001b[38;5;241m*\u001b[39mkwargs)\n\u001b[1;32m    163\u001b[0m postprocess_fn \u001b[38;5;241m=\u001b[39m postprocess_fn_gen(\u001b[38;5;241m*\u001b[39margs, \u001b[38;5;241m*\u001b[39m\u001b[38;5;241m*\u001b[39mkwargs)\n",
      "File \u001b[0;32m~/miniconda3/envs/nextstrain-workflow/lib/python3.9/site-packages/numpyro/infer/util.py:677\u001b[0m, in \u001b[0;36minitialize_model\u001b[0;34m(rng_key, model, init_strategy, dynamic_args, model_args, model_kwargs, forward_mode_differentiation, validate_grad)\u001b[0m\n\u001b[1;32m    674\u001b[0m \u001b[38;5;28;01mif\u001b[39;00m device_get(\u001b[38;5;241m~\u001b[39mjnp\u001b[38;5;241m.\u001b[39mall(is_valid)):\n\u001b[1;32m    675\u001b[0m     \u001b[38;5;28;01mwith\u001b[39;00m numpyro\u001b[38;5;241m.\u001b[39mvalidation_enabled(), trace() \u001b[38;5;28;01mas\u001b[39;00m tr:\n\u001b[1;32m    676\u001b[0m         \u001b[38;5;66;03m# validate parameters\u001b[39;00m\n\u001b[0;32m--> 677\u001b[0m         \u001b[43msubstituted_model\u001b[49m\u001b[43m(\u001b[49m\u001b[38;5;241;43m*\u001b[39;49m\u001b[43mmodel_args\u001b[49m\u001b[43m,\u001b[49m\u001b[43m \u001b[49m\u001b[38;5;241;43m*\u001b[39;49m\u001b[38;5;241;43m*\u001b[39;49m\u001b[43mmodel_kwargs\u001b[49m\u001b[43m)\u001b[49m\n\u001b[1;32m    678\u001b[0m         \u001b[38;5;66;03m# validate values\u001b[39;00m\n\u001b[1;32m    679\u001b[0m         \u001b[38;5;28;01mfor\u001b[39;00m site \u001b[38;5;129;01min\u001b[39;00m tr\u001b[38;5;241m.\u001b[39mvalues():\n",
      "File \u001b[0;32m~/miniconda3/envs/nextstrain-workflow/lib/python3.9/site-packages/numpyro/primitives.py:105\u001b[0m, in \u001b[0;36mMessenger.__call__\u001b[0;34m(self, *args, **kwargs)\u001b[0m\n\u001b[1;32m    103\u001b[0m     \u001b[38;5;28;01mreturn\u001b[39;00m \u001b[38;5;28mself\u001b[39m\n\u001b[1;32m    104\u001b[0m \u001b[38;5;28;01mwith\u001b[39;00m \u001b[38;5;28mself\u001b[39m:\n\u001b[0;32m--> 105\u001b[0m     \u001b[38;5;28;01mreturn\u001b[39;00m \u001b[38;5;28;43mself\u001b[39;49m\u001b[38;5;241;43m.\u001b[39;49m\u001b[43mfn\u001b[49m\u001b[43m(\u001b[49m\u001b[38;5;241;43m*\u001b[39;49m\u001b[43margs\u001b[49m\u001b[43m,\u001b[49m\u001b[43m \u001b[49m\u001b[38;5;241;43m*\u001b[39;49m\u001b[38;5;241;43m*\u001b[39;49m\u001b[43mkwargs\u001b[49m\u001b[43m)\u001b[49m\n",
      "File \u001b[0;32m~/miniconda3/envs/nextstrain-workflow/lib/python3.9/site-packages/numpyro/primitives.py:105\u001b[0m, in \u001b[0;36mMessenger.__call__\u001b[0;34m(self, *args, **kwargs)\u001b[0m\n\u001b[1;32m    103\u001b[0m     \u001b[38;5;28;01mreturn\u001b[39;00m \u001b[38;5;28mself\u001b[39m\n\u001b[1;32m    104\u001b[0m \u001b[38;5;28;01mwith\u001b[39;00m \u001b[38;5;28mself\u001b[39m:\n\u001b[0;32m--> 105\u001b[0m     \u001b[38;5;28;01mreturn\u001b[39;00m \u001b[38;5;28;43mself\u001b[39;49m\u001b[38;5;241;43m.\u001b[39;49m\u001b[43mfn\u001b[49m\u001b[43m(\u001b[49m\u001b[38;5;241;43m*\u001b[39;49m\u001b[43margs\u001b[49m\u001b[43m,\u001b[49m\u001b[43m \u001b[49m\u001b[38;5;241;43m*\u001b[39;49m\u001b[38;5;241;43m*\u001b[39;49m\u001b[43mkwargs\u001b[49m\u001b[43m)\u001b[49m\n",
      "File \u001b[0;32m~/miniconda3/envs/nextstrain-workflow/lib/python3.9/site-packages/evofr/models/mutational_fitness_mlr.py:70\u001b[0m, in \u001b[0;36mmutational_fitness_model\u001b[0;34m(seq_counts, N, X, mutation_presence, SeqLik, tau, pred)\u001b[0m\n\u001b[1;32m     65\u001b[0m freq \u001b[38;5;241m=\u001b[39m numpyro\u001b[38;5;241m.\u001b[39mdeterministic(\n\u001b[1;32m     66\u001b[0m     \u001b[38;5;124m\"\u001b[39m\u001b[38;5;124mfreq\u001b[39m\u001b[38;5;124m\"\u001b[39m, jnp\u001b[38;5;241m.\u001b[39mclip(_freq \u001b[38;5;241m/\u001b[39m _freq\u001b[38;5;241m.\u001b[39msum(axis\u001b[38;5;241m=\u001b[39m\u001b[38;5;241m-\u001b[39m\u001b[38;5;241m1\u001b[39m)[:, \u001b[38;5;28;01mNone\u001b[39;00m], \u001b[38;5;241m1e-12\u001b[39m, \u001b[38;5;241m1\u001b[39m \u001b[38;5;241m-\u001b[39m \u001b[38;5;241m1e-12\u001b[39m)\n\u001b[1;32m     67\u001b[0m )\n\u001b[1;32m     69\u001b[0m \u001b[38;5;66;03m# Evaluate likelihood of sequence counts given delays\u001b[39;00m\n\u001b[0;32m---> 70\u001b[0m \u001b[43mSeqLik\u001b[49m\u001b[38;5;241;43m.\u001b[39;49m\u001b[43mmodel\u001b[49m\u001b[43m(\u001b[49m\u001b[43mseq_counts\u001b[49m\u001b[43m,\u001b[49m\u001b[43m \u001b[49m\u001b[43mN\u001b[49m\u001b[43m,\u001b[49m\u001b[43m \u001b[49m\u001b[43mfreq\u001b[49m\u001b[43m,\u001b[49m\u001b[43m \u001b[49m\u001b[43mpred\u001b[49m\u001b[43m)\u001b[49m  \u001b[38;5;66;03m# Evaluate likelihood\u001b[39;00m\n\u001b[1;32m     72\u001b[0m \u001b[38;5;66;03m# Compute growth advantage from model\u001b[39;00m\n\u001b[1;32m     73\u001b[0m \u001b[38;5;28;01mif\u001b[39;00m tau \u001b[38;5;129;01mis\u001b[39;00m \u001b[38;5;129;01mnot\u001b[39;00m \u001b[38;5;28;01mNone\u001b[39;00m:\n",
      "File \u001b[0;32m~/miniconda3/envs/nextstrain-workflow/lib/python3.9/site-packages/evofr/models/renewal_model/model_options.py:282\u001b[0m, in \u001b[0;36mMultinomialSeq.model\u001b[0;34m(self, seq_counts, N, freq, pred)\u001b[0m\n\u001b[1;32m    276\u001b[0m \u001b[38;5;28;01mdef\u001b[39;00m \u001b[38;5;21mmodel\u001b[39m(\u001b[38;5;28mself\u001b[39m, seq_counts, N, freq, pred\u001b[38;5;241m=\u001b[39m\u001b[38;5;28;01mFalse\u001b[39;00m):\n\u001b[1;32m    277\u001b[0m \n\u001b[1;32m    278\u001b[0m     \u001b[38;5;66;03m# Sample with Multinomial\u001b[39;00m\n\u001b[1;32m    279\u001b[0m     obs \u001b[38;5;241m=\u001b[39m \u001b[38;5;28;01mNone\u001b[39;00m \u001b[38;5;28;01mif\u001b[39;00m pred \u001b[38;5;28;01melse\u001b[39;00m np\u001b[38;5;241m.\u001b[39mnan_to_num(seq_counts)\n\u001b[1;32m    280\u001b[0m     numpyro\u001b[38;5;241m.\u001b[39msample(\n\u001b[1;32m    281\u001b[0m         \u001b[38;5;124m\"\u001b[39m\u001b[38;5;124mseq_counts\u001b[39m\u001b[38;5;124m\"\u001b[39m,\n\u001b[0;32m--> 282\u001b[0m         \u001b[43mdist\u001b[49m\u001b[38;5;241;43m.\u001b[39;49m\u001b[43mMultinomial\u001b[49m\u001b[43m(\u001b[49m\u001b[43mtotal_count\u001b[49m\u001b[38;5;241;43m=\u001b[39;49m\u001b[43mnp\u001b[49m\u001b[38;5;241;43m.\u001b[39;49m\u001b[43mnan_to_num\u001b[49m\u001b[43m(\u001b[49m\u001b[43mN\u001b[49m\u001b[43m)\u001b[49m\u001b[43m,\u001b[49m\u001b[43m \u001b[49m\u001b[43mprobs\u001b[49m\u001b[38;5;241;43m=\u001b[39;49m\u001b[43mfreq\u001b[49m\u001b[43m)\u001b[49m,\n\u001b[1;32m    283\u001b[0m         obs\u001b[38;5;241m=\u001b[39mobs,\n\u001b[1;32m    284\u001b[0m     )\n",
      "File \u001b[0;32m~/miniconda3/envs/nextstrain-workflow/lib/python3.9/site-packages/numpyro/distributions/discrete.py:623\u001b[0m, in \u001b[0;36mMultinomial\u001b[0;34m(total_count, probs, logits, validate_args)\u001b[0m\n\u001b[1;32m    621\u001b[0m \u001b[38;5;28;01mdef\u001b[39;00m \u001b[38;5;21mMultinomial\u001b[39m(total_count\u001b[38;5;241m=\u001b[39m\u001b[38;5;241m1\u001b[39m, probs\u001b[38;5;241m=\u001b[39m\u001b[38;5;28;01mNone\u001b[39;00m, logits\u001b[38;5;241m=\u001b[39m\u001b[38;5;28;01mNone\u001b[39;00m, \u001b[38;5;241m*\u001b[39m, validate_args\u001b[38;5;241m=\u001b[39m\u001b[38;5;28;01mNone\u001b[39;00m):\n\u001b[1;32m    622\u001b[0m     \u001b[38;5;28;01mif\u001b[39;00m probs \u001b[38;5;129;01mis\u001b[39;00m \u001b[38;5;129;01mnot\u001b[39;00m \u001b[38;5;28;01mNone\u001b[39;00m:\n\u001b[0;32m--> 623\u001b[0m         \u001b[38;5;28;01mreturn\u001b[39;00m \u001b[43mMultinomialProbs\u001b[49m\u001b[43m(\u001b[49m\u001b[43mprobs\u001b[49m\u001b[43m,\u001b[49m\u001b[43m \u001b[49m\u001b[43mtotal_count\u001b[49m\u001b[43m,\u001b[49m\u001b[43m \u001b[49m\u001b[43mvalidate_args\u001b[49m\u001b[38;5;241;43m=\u001b[39;49m\u001b[43mvalidate_args\u001b[49m\u001b[43m)\u001b[49m\n\u001b[1;32m    624\u001b[0m     \u001b[38;5;28;01melif\u001b[39;00m logits \u001b[38;5;129;01mis\u001b[39;00m \u001b[38;5;129;01mnot\u001b[39;00m \u001b[38;5;28;01mNone\u001b[39;00m:\n\u001b[1;32m    625\u001b[0m         \u001b[38;5;28;01mreturn\u001b[39;00m MultinomialLogits(logits, total_count, validate_args\u001b[38;5;241m=\u001b[39mvalidate_args)\n",
      "File \u001b[0;32m~/miniconda3/envs/nextstrain-workflow/lib/python3.9/site-packages/numpyro/distributions/distribution.py:99\u001b[0m, in \u001b[0;36mDistributionMeta.__call__\u001b[0;34m(cls, *args, **kwargs)\u001b[0m\n\u001b[1;32m     97\u001b[0m     \u001b[38;5;28;01mif\u001b[39;00m result \u001b[38;5;129;01mis\u001b[39;00m \u001b[38;5;129;01mnot\u001b[39;00m \u001b[38;5;28;01mNone\u001b[39;00m:\n\u001b[1;32m     98\u001b[0m         \u001b[38;5;28;01mreturn\u001b[39;00m result\n\u001b[0;32m---> 99\u001b[0m \u001b[38;5;28;01mreturn\u001b[39;00m \u001b[38;5;28;43msuper\u001b[39;49m\u001b[43m(\u001b[49m\u001b[43m)\u001b[49m\u001b[38;5;241;43m.\u001b[39;49m\u001b[38;5;21;43m__call__\u001b[39;49m\u001b[43m(\u001b[49m\u001b[38;5;241;43m*\u001b[39;49m\u001b[43margs\u001b[49m\u001b[43m,\u001b[49m\u001b[43m \u001b[49m\u001b[38;5;241;43m*\u001b[39;49m\u001b[38;5;241;43m*\u001b[39;49m\u001b[43mkwargs\u001b[49m\u001b[43m)\u001b[49m\n",
      "File \u001b[0;32m~/miniconda3/envs/nextstrain-workflow/lib/python3.9/site-packages/numpyro/distributions/discrete.py:516\u001b[0m, in \u001b[0;36mMultinomialProbs.__init__\u001b[0;34m(self, probs, total_count, validate_args)\u001b[0m\n\u001b[1;32m    514\u001b[0m \u001b[38;5;28mself\u001b[39m\u001b[38;5;241m.\u001b[39mprobs \u001b[38;5;241m=\u001b[39m promote_shapes(probs, shape\u001b[38;5;241m=\u001b[39mbatch_shape \u001b[38;5;241m+\u001b[39m jnp\u001b[38;5;241m.\u001b[39mshape(probs)[\u001b[38;5;241m-\u001b[39m\u001b[38;5;241m1\u001b[39m:])[\u001b[38;5;241m0\u001b[39m]\n\u001b[1;32m    515\u001b[0m \u001b[38;5;28mself\u001b[39m\u001b[38;5;241m.\u001b[39mtotal_count \u001b[38;5;241m=\u001b[39m promote_shapes(total_count, shape\u001b[38;5;241m=\u001b[39mbatch_shape)[\u001b[38;5;241m0\u001b[39m]\n\u001b[0;32m--> 516\u001b[0m \u001b[38;5;28;43msuper\u001b[39;49m\u001b[43m(\u001b[49m\u001b[43mMultinomialProbs\u001b[49m\u001b[43m,\u001b[49m\u001b[43m \u001b[49m\u001b[38;5;28;43mself\u001b[39;49m\u001b[43m)\u001b[49m\u001b[38;5;241;43m.\u001b[39;49m\u001b[38;5;21;43m__init__\u001b[39;49m\u001b[43m(\u001b[49m\n\u001b[1;32m    517\u001b[0m \u001b[43m    \u001b[49m\u001b[43mbatch_shape\u001b[49m\u001b[38;5;241;43m=\u001b[39;49m\u001b[43mbatch_shape\u001b[49m\u001b[43m,\u001b[49m\n\u001b[1;32m    518\u001b[0m \u001b[43m    \u001b[49m\u001b[43mevent_shape\u001b[49m\u001b[38;5;241;43m=\u001b[39;49m\u001b[43mevent_shape\u001b[49m\u001b[43m,\u001b[49m\n\u001b[1;32m    519\u001b[0m \u001b[43m    \u001b[49m\u001b[43mvalidate_args\u001b[49m\u001b[38;5;241;43m=\u001b[39;49m\u001b[43mvalidate_args\u001b[49m\u001b[43m,\u001b[49m\n\u001b[1;32m    520\u001b[0m \u001b[43m\u001b[49m\u001b[43m)\u001b[49m\n",
      "File \u001b[0;32m~/miniconda3/envs/nextstrain-workflow/lib/python3.9/site-packages/numpyro/distributions/distribution.py:177\u001b[0m, in \u001b[0;36mDistribution.__init__\u001b[0;34m(self, batch_shape, event_shape, validate_args)\u001b[0m\n\u001b[1;32m    175\u001b[0m         \u001b[38;5;28;01mif\u001b[39;00m not_jax_tracer(is_valid):\n\u001b[1;32m    176\u001b[0m             \u001b[38;5;28;01mif\u001b[39;00m \u001b[38;5;129;01mnot\u001b[39;00m np\u001b[38;5;241m.\u001b[39mall(is_valid):\n\u001b[0;32m--> 177\u001b[0m                 \u001b[38;5;28;01mraise\u001b[39;00m \u001b[38;5;167;01mValueError\u001b[39;00m(\n\u001b[1;32m    178\u001b[0m                     \u001b[38;5;124m\"\u001b[39m\u001b[38;5;132;01m{}\u001b[39;00m\u001b[38;5;124m distribution got invalid \u001b[39m\u001b[38;5;132;01m{}\u001b[39;00m\u001b[38;5;124m parameter.\u001b[39m\u001b[38;5;124m\"\u001b[39m\u001b[38;5;241m.\u001b[39mformat(\n\u001b[1;32m    179\u001b[0m                         \u001b[38;5;28mself\u001b[39m\u001b[38;5;241m.\u001b[39m\u001b[38;5;18m__class__\u001b[39m\u001b[38;5;241m.\u001b[39m\u001b[38;5;18m__name__\u001b[39m, param\n\u001b[1;32m    180\u001b[0m                     )\n\u001b[1;32m    181\u001b[0m                 )\n\u001b[1;32m    182\u001b[0m \u001b[38;5;28msuper\u001b[39m(Distribution, \u001b[38;5;28mself\u001b[39m)\u001b[38;5;241m.\u001b[39m\u001b[38;5;21m__init__\u001b[39m()\n",
      "\u001b[0;31mValueError\u001b[0m: MultinomialProbs distribution got invalid probs parameter."
     ]
    }
   ],
   "source": [
    "# Defining model\n",
    "mlr = MutationalFitnessMLR(tau=4.2)\n",
    "# Defining inference method\n",
    "inference_method = ef.InferMAP(iters=100_000, lr=4e-4)\n",
    "# Fitting model\n",
    "posterior = inference_method.fit(mlr, variant_frequencies)\n",
    "samples = posterior.samples"
   ]
  },
  {
   "cell_type": "code",
   "execution_count": 7,
   "id": "48cfc8f6",
   "metadata": {},
   "outputs": [],
   "source": [
    "# defining the growth advantages\n",
    "mut_ga = pd.DataFrame(\n",
    "    ef.posterior.get_growth_advantage(samples, posterior.data, ps=[0.8], name=\"USA\", rel_to=\"BA.2\")\n",
    ")"
   ]
  },
  {
   "cell_type": "code",
   "execution_count": 8,
   "id": "c4db457f",
   "metadata": {},
   "outputs": [
    {
     "data": {
      "text/html": [
       "<div>\n",
       "<style scoped>\n",
       "    .dataframe tbody tr th:only-of-type {\n",
       "        vertical-align: middle;\n",
       "    }\n",
       "\n",
       "    .dataframe tbody tr th {\n",
       "        vertical-align: top;\n",
       "    }\n",
       "\n",
       "    .dataframe thead th {\n",
       "        text-align: right;\n",
       "    }\n",
       "</style>\n",
       "<table border=\"1\" class=\"dataframe\">\n",
       "  <thead>\n",
       "    <tr style=\"text-align: right;\">\n",
       "      <th></th>\n",
       "      <th>location</th>\n",
       "      <th>variant</th>\n",
       "      <th>median_ga</th>\n",
       "      <th>ga_upper_80</th>\n",
       "      <th>ga_lower_80</th>\n",
       "    </tr>\n",
       "  </thead>\n",
       "  <tbody>\n",
       "    <tr>\n",
       "      <th>0</th>\n",
       "      <td>USA</td>\n",
       "      <td>B.1.1.529</td>\n",
       "      <td>1.0</td>\n",
       "      <td>1.0</td>\n",
       "      <td>1.0</td>\n",
       "    </tr>\n",
       "    <tr>\n",
       "      <th>1</th>\n",
       "      <td>USA</td>\n",
       "      <td>BA.1</td>\n",
       "      <td>1.0</td>\n",
       "      <td>1.0</td>\n",
       "      <td>1.0</td>\n",
       "    </tr>\n",
       "    <tr>\n",
       "      <th>2</th>\n",
       "      <td>USA</td>\n",
       "      <td>BA.1.1</td>\n",
       "      <td>1.0</td>\n",
       "      <td>1.0</td>\n",
       "      <td>1.0</td>\n",
       "    </tr>\n",
       "    <tr>\n",
       "      <th>3</th>\n",
       "      <td>USA</td>\n",
       "      <td>BA.1.1.1</td>\n",
       "      <td>1.0</td>\n",
       "      <td>1.0</td>\n",
       "      <td>1.0</td>\n",
       "    </tr>\n",
       "    <tr>\n",
       "      <th>4</th>\n",
       "      <td>USA</td>\n",
       "      <td>BA.1.1.10</td>\n",
       "      <td>1.0</td>\n",
       "      <td>1.0</td>\n",
       "      <td>1.0</td>\n",
       "    </tr>\n",
       "    <tr>\n",
       "      <th>...</th>\n",
       "      <td>...</td>\n",
       "      <td>...</td>\n",
       "      <td>...</td>\n",
       "      <td>...</td>\n",
       "      <td>...</td>\n",
       "    </tr>\n",
       "    <tr>\n",
       "      <th>173</th>\n",
       "      <td>USA</td>\n",
       "      <td>BQ.1.14</td>\n",
       "      <td>1.0</td>\n",
       "      <td>1.0</td>\n",
       "      <td>1.0</td>\n",
       "    </tr>\n",
       "    <tr>\n",
       "      <th>174</th>\n",
       "      <td>USA</td>\n",
       "      <td>BQ.1.2</td>\n",
       "      <td>1.0</td>\n",
       "      <td>1.0</td>\n",
       "      <td>1.0</td>\n",
       "    </tr>\n",
       "    <tr>\n",
       "      <th>175</th>\n",
       "      <td>USA</td>\n",
       "      <td>BQ.1.3</td>\n",
       "      <td>1.0</td>\n",
       "      <td>1.0</td>\n",
       "      <td>1.0</td>\n",
       "    </tr>\n",
       "    <tr>\n",
       "      <th>176</th>\n",
       "      <td>USA</td>\n",
       "      <td>BQ.1.6</td>\n",
       "      <td>1.0</td>\n",
       "      <td>1.0</td>\n",
       "      <td>1.0</td>\n",
       "    </tr>\n",
       "    <tr>\n",
       "      <th>177</th>\n",
       "      <td>USA</td>\n",
       "      <td>other</td>\n",
       "      <td>1.0</td>\n",
       "      <td>1.0</td>\n",
       "      <td>1.0</td>\n",
       "    </tr>\n",
       "  </tbody>\n",
       "</table>\n",
       "<p>178 rows × 5 columns</p>\n",
       "</div>"
      ],
      "text/plain": [
       "    location    variant median_ga ga_upper_80 ga_lower_80\n",
       "0        USA  B.1.1.529       1.0         1.0         1.0\n",
       "1        USA       BA.1       1.0         1.0         1.0\n",
       "2        USA     BA.1.1       1.0         1.0         1.0\n",
       "3        USA   BA.1.1.1       1.0         1.0         1.0\n",
       "4        USA  BA.1.1.10       1.0         1.0         1.0\n",
       "..       ...        ...       ...         ...         ...\n",
       "173      USA    BQ.1.14       1.0         1.0         1.0\n",
       "174      USA     BQ.1.2       1.0         1.0         1.0\n",
       "175      USA     BQ.1.3       1.0         1.0         1.0\n",
       "176      USA     BQ.1.6       1.0         1.0         1.0\n",
       "177      USA      other       1.0         1.0         1.0\n",
       "\n",
       "[178 rows x 5 columns]"
      ]
     },
     "execution_count": 8,
     "metadata": {},
     "output_type": "execute_result"
    }
   ],
   "source": [
    "#viewing mutational ga df\n",
    "mut_ga"
   ]
  },
  {
   "cell_type": "markdown",
   "id": "fa46e553",
   "metadata": {},
   "source": [
    "# Assigning individual fitnesses to each mutation"
   ]
  },
  {
   "cell_type": "code",
   "execution_count": 9,
   "id": "6e199962",
   "metadata": {},
   "outputs": [],
   "source": [
    "# Grabbing fitness for each mutation, in sorted order\n",
    "def mutations(samples, data):\n",
    "    rows_for_tsv = []\n",
    "    delta = jnp.median(samples[\"raw_delta\"], axis=0)\n",
    "    idx = (-delta).argsort()[:len(delta)]\n",
    "    for i in idx:\n",
    "        array = delta[i]\n",
    "        rows_for_tsv.append({'mutation':data.mut_names[i], 'fitness_effect':array})\n",
    "    return rows_for_tsv\n",
    "table = mutations(samples, variant_frequencies)\n",
    "mutations_table = pd.DataFrame(table)"
   ]
  },
  {
   "cell_type": "code",
   "execution_count": 10,
   "id": "9f960dbc",
   "metadata": {},
   "outputs": [],
   "source": [
    "# creating summary table with variant name, variant ga, mutation, mutation fitness\n",
    "final_table = pd.merge(mut_ga, raw_muts, on=\"variant\")\n",
    "final_table = pd.merge(final_table, mutations_table, on=\"mutation\")\n",
    "final_table = final_table.drop(final_table.columns[0], axis=1)\n",
    "final_table = final_table.drop(final_table.columns[2], axis=1)\n",
    "final_table = final_table.drop(final_table.columns[2], axis=1)\n",
    "# renaming the table\n",
    "mutations_summary = final_table"
   ]
  },
  {
   "cell_type": "code",
   "execution_count": 11,
   "id": "3e577c0d",
   "metadata": {},
   "outputs": [
    {
     "data": {
      "text/html": [
       "<div>\n",
       "<style scoped>\n",
       "    .dataframe tbody tr th:only-of-type {\n",
       "        vertical-align: middle;\n",
       "    }\n",
       "\n",
       "    .dataframe tbody tr th {\n",
       "        vertical-align: top;\n",
       "    }\n",
       "\n",
       "    .dataframe thead th {\n",
       "        text-align: right;\n",
       "    }\n",
       "</style>\n",
       "<table border=\"1\" class=\"dataframe\">\n",
       "  <thead>\n",
       "    <tr style=\"text-align: right;\">\n",
       "      <th></th>\n",
       "      <th>variant</th>\n",
       "      <th>median_ga</th>\n",
       "      <th>mutation</th>\n",
       "      <th>fitness_effect</th>\n",
       "    </tr>\n",
       "  </thead>\n",
       "  <tbody>\n",
       "    <tr>\n",
       "      <th>0</th>\n",
       "      <td>BA.2.13</td>\n",
       "      <td>0.9664435</td>\n",
       "      <td>L452M_S</td>\n",
       "      <td>-0.008126772</td>\n",
       "    </tr>\n",
       "    <tr>\n",
       "      <th>1</th>\n",
       "      <td>BA.2.13.1</td>\n",
       "      <td>0.98715186</td>\n",
       "      <td>L452M_S</td>\n",
       "      <td>-0.008126772</td>\n",
       "    </tr>\n",
       "    <tr>\n",
       "      <th>2</th>\n",
       "      <td>BA.2.13.1</td>\n",
       "      <td>0.98715186</td>\n",
       "      <td>A75V_ORF9b</td>\n",
       "      <td>0.056104172</td>\n",
       "    </tr>\n",
       "    <tr>\n",
       "      <th>3</th>\n",
       "      <td>BA.2.13.1</td>\n",
       "      <td>0.98715186</td>\n",
       "      <td>T941S_S</td>\n",
       "      <td>-0.051056303</td>\n",
       "    </tr>\n",
       "  </tbody>\n",
       "</table>\n",
       "</div>"
      ],
      "text/plain": [
       "     variant   median_ga    mutation fitness_effect\n",
       "0    BA.2.13   0.9664435     L452M_S   -0.008126772\n",
       "1  BA.2.13.1  0.98715186     L452M_S   -0.008126772\n",
       "2  BA.2.13.1  0.98715186  A75V_ORF9b    0.056104172\n",
       "3  BA.2.13.1  0.98715186     T941S_S   -0.051056303"
      ]
     },
     "execution_count": 11,
     "metadata": {},
     "output_type": "execute_result"
    }
   ],
   "source": [
    "# viewing table of mutation fitnesses\n",
    "mutations_summary"
   ]
  },
  {
   "cell_type": "markdown",
   "id": "3c179812",
   "metadata": {},
   "source": [
    "# Assigning innovation GA to variants"
   ]
  },
  {
   "cell_type": "code",
   "execution_count": 12,
   "id": "c3109aea",
   "metadata": {},
   "outputs": [],
   "source": [
    "# Getting data\n",
    "raw_seq = pd.read_csv(\"../count-data/pango_location-variant-sequence-counts.tsv\", sep=\"\\t\")\n",
    "# raw_variant_parents is missing a row for BA.2, so append one\n",
    "raw_variant_parents = pd.concat((pd.read_csv(\"../count-data/pango_variant-relationships.tsv\", sep=\"\\t\"),\n",
    "                                pd.DataFrame({\"variant\": [\"BA.2\"], \"parent\": [\"base\"]}))).reset_index(drop=True)\n",
    "variant_frequencies = ef.InnovationSequenceCounts(raw_seq, raw_variant_parents, pivot=\"BA.2\")"
   ]
  },
  {
   "cell_type": "code",
   "execution_count": 13,
   "id": "059bbfcd",
   "metadata": {},
   "outputs": [
    {
     "ename": "KeyboardInterrupt",
     "evalue": "",
     "output_type": "error",
     "traceback": [
      "\u001b[0;31m---------------------------------------------------------------------------\u001b[0m",
      "\u001b[0;31mKeyboardInterrupt\u001b[0m                         Traceback (most recent call last)",
      "Cell \u001b[0;32mIn[13], line 6\u001b[0m\n\u001b[1;32m      4\u001b[0m inference_method \u001b[38;5;241m=\u001b[39m ef\u001b[38;5;241m.\u001b[39mInferFullRank(iters\u001b[38;5;241m=\u001b[39m\u001b[38;5;241m50_000\u001b[39m, lr\u001b[38;5;241m=\u001b[39m\u001b[38;5;241m4e-3\u001b[39m, num_samples\u001b[38;5;241m=\u001b[39m\u001b[38;5;241m100\u001b[39m)\n\u001b[1;32m      5\u001b[0m \u001b[38;5;66;03m# Fitting model\u001b[39;00m\n\u001b[0;32m----> 6\u001b[0m posterior \u001b[38;5;241m=\u001b[39m \u001b[43minference_method\u001b[49m\u001b[38;5;241;43m.\u001b[39;49m\u001b[43mfit\u001b[49m\u001b[43m(\u001b[49m\u001b[43mmlr\u001b[49m\u001b[43m,\u001b[49m\u001b[43m \u001b[49m\u001b[43mvariant_frequencies\u001b[49m\u001b[43m)\u001b[49m\n\u001b[1;32m      7\u001b[0m samples \u001b[38;5;241m=\u001b[39m posterior\u001b[38;5;241m.\u001b[39msamples\n",
      "File \u001b[0;32m~/miniconda3/envs/nextstrain-workflow/lib/python3.9/site-packages/evofr/infer/InferSVI.py:78\u001b[0m, in \u001b[0;36mInferSVI.fit\u001b[0;34m(self, model, data, name)\u001b[0m\n\u001b[1;32m     76\u001b[0m \u001b[38;5;66;03m# Fit model and retrieve samples\u001b[39;00m\n\u001b[1;32m     77\u001b[0m \u001b[38;5;28mself\u001b[39m\u001b[38;5;241m.\u001b[39mhandler\u001b[38;5;241m.\u001b[39mfit(model\u001b[38;5;241m.\u001b[39mmodel_fn, guide, \u001b[38;5;28minput\u001b[39m, \u001b[38;5;28mself\u001b[39m\u001b[38;5;241m.\u001b[39miters)\n\u001b[0;32m---> 78\u001b[0m samples \u001b[38;5;241m=\u001b[39m \u001b[38;5;28;43mself\u001b[39;49m\u001b[38;5;241;43m.\u001b[39;49m\u001b[43mhandler\u001b[49m\u001b[38;5;241;43m.\u001b[39;49m\u001b[43mpredict\u001b[49m\u001b[43m(\u001b[49m\n\u001b[1;32m     79\u001b[0m \u001b[43m    \u001b[49m\u001b[43mmodel\u001b[49m\u001b[38;5;241;43m.\u001b[39;49m\u001b[43mmodel_fn\u001b[49m\u001b[43m,\u001b[49m\u001b[43m \u001b[49m\u001b[43mguide\u001b[49m\u001b[43m,\u001b[49m\u001b[43m \u001b[49m\u001b[38;5;28;43minput\u001b[39;49m\u001b[43m,\u001b[49m\u001b[43m \u001b[49m\u001b[43mnum_samples\u001b[49m\u001b[38;5;241;43m=\u001b[39;49m\u001b[38;5;28;43mself\u001b[39;49m\u001b[38;5;241;43m.\u001b[39;49m\u001b[43mnum_samples\u001b[49m\n\u001b[1;32m     80\u001b[0m \u001b[43m\u001b[49m\u001b[43m)\u001b[49m\n\u001b[1;32m     81\u001b[0m samples[\u001b[38;5;124m\"\u001b[39m\u001b[38;5;124mlosses\u001b[39m\u001b[38;5;124m\"\u001b[39m] \u001b[38;5;241m=\u001b[39m \u001b[38;5;28mself\u001b[39m\u001b[38;5;241m.\u001b[39mhandler\u001b[38;5;241m.\u001b[39mlosses\n\u001b[1;32m     83\u001b[0m \u001b[38;5;66;03m# Create object to hold posterior samples and data\u001b[39;00m\n",
      "File \u001b[0;32m~/miniconda3/envs/nextstrain-workflow/lib/python3.9/site-packages/evofr/infer/SVI_handler.py:81\u001b[0m, in \u001b[0;36mSVIHandler.predict\u001b[0;34m(self, model, guide, data, **kwargs)\u001b[0m\n\u001b[1;32m     78\u001b[0m predictive \u001b[38;5;241m=\u001b[39m Predictive(model, samples)\n\u001b[1;32m     80\u001b[0m \u001b[38;5;28mself\u001b[39m\u001b[38;5;241m.\u001b[39mrng_key, rng_key_ \u001b[38;5;241m=\u001b[39m random\u001b[38;5;241m.\u001b[39msplit(\u001b[38;5;28mself\u001b[39m\u001b[38;5;241m.\u001b[39mrng_key)\n\u001b[0;32m---> 81\u001b[0m samples_pred \u001b[38;5;241m=\u001b[39m \u001b[43mpredictive\u001b[49m\u001b[43m(\u001b[49m\u001b[43mrng_key_\u001b[49m\u001b[43m,\u001b[49m\u001b[43m \u001b[49m\u001b[43mpred\u001b[49m\u001b[38;5;241;43m=\u001b[39;49m\u001b[38;5;28;43;01mTrue\u001b[39;49;00m\u001b[43m,\u001b[49m\u001b[43m \u001b[49m\u001b[38;5;241;43m*\u001b[39;49m\u001b[38;5;241;43m*\u001b[39;49m\u001b[43mdata\u001b[49m\u001b[43m)\u001b[49m\n\u001b[1;32m     82\u001b[0m \u001b[38;5;28;01mreturn\u001b[39;00m {\u001b[38;5;241m*\u001b[39m\u001b[38;5;241m*\u001b[39msamples, \u001b[38;5;241m*\u001b[39m\u001b[38;5;241m*\u001b[39msamples_pred}\n",
      "File \u001b[0;32m~/miniconda3/envs/nextstrain-workflow/lib/python3.9/site-packages/numpyro/infer/util.py:961\u001b[0m, in \u001b[0;36mPredictive.__call__\u001b[0;34m(self, rng_key, *args, **kwargs)\u001b[0m\n\u001b[1;32m    951\u001b[0m \u001b[38;5;124;03m\"\"\"\u001b[39;00m\n\u001b[1;32m    952\u001b[0m \u001b[38;5;124;03mReturns dict of samples from the predictive distribution. By default, only sample sites not\u001b[39;00m\n\u001b[1;32m    953\u001b[0m \u001b[38;5;124;03mcontained in `posterior_samples` are returned. This can be modified by changing the\u001b[39;00m\n\u001b[0;32m   (...)\u001b[0m\n\u001b[1;32m    958\u001b[0m \u001b[38;5;124;03m:param kwargs: model kwargs.\u001b[39;00m\n\u001b[1;32m    959\u001b[0m \u001b[38;5;124;03m\"\"\"\u001b[39;00m\n\u001b[1;32m    960\u001b[0m \u001b[38;5;28;01mif\u001b[39;00m \u001b[38;5;28mself\u001b[39m\u001b[38;5;241m.\u001b[39mbatch_ndims \u001b[38;5;241m==\u001b[39m \u001b[38;5;241m0\u001b[39m \u001b[38;5;129;01mor\u001b[39;00m \u001b[38;5;28mself\u001b[39m\u001b[38;5;241m.\u001b[39mparams \u001b[38;5;241m==\u001b[39m {} \u001b[38;5;129;01mor\u001b[39;00m \u001b[38;5;28mself\u001b[39m\u001b[38;5;241m.\u001b[39mguide \u001b[38;5;129;01mis\u001b[39;00m \u001b[38;5;28;01mNone\u001b[39;00m:\n\u001b[0;32m--> 961\u001b[0m     \u001b[38;5;28;01mreturn\u001b[39;00m \u001b[38;5;28;43mself\u001b[39;49m\u001b[38;5;241;43m.\u001b[39;49m\u001b[43m_call_with_params\u001b[49m\u001b[43m(\u001b[49m\u001b[43mrng_key\u001b[49m\u001b[43m,\u001b[49m\u001b[43m \u001b[49m\u001b[38;5;28;43mself\u001b[39;49m\u001b[38;5;241;43m.\u001b[39;49m\u001b[43mparams\u001b[49m\u001b[43m,\u001b[49m\u001b[43m \u001b[49m\u001b[43margs\u001b[49m\u001b[43m,\u001b[49m\u001b[43m \u001b[49m\u001b[43mkwargs\u001b[49m\u001b[43m)\u001b[49m\n\u001b[1;32m    962\u001b[0m \u001b[38;5;28;01melif\u001b[39;00m \u001b[38;5;28mself\u001b[39m\u001b[38;5;241m.\u001b[39mbatch_ndims \u001b[38;5;241m==\u001b[39m \u001b[38;5;241m1\u001b[39m:  \u001b[38;5;66;03m# batch over parameters\u001b[39;00m\n\u001b[1;32m    963\u001b[0m     batch_size \u001b[38;5;241m=\u001b[39m jnp\u001b[38;5;241m.\u001b[39mshape(tree_flatten(\u001b[38;5;28mself\u001b[39m\u001b[38;5;241m.\u001b[39mparams)[\u001b[38;5;241m0\u001b[39m][\u001b[38;5;241m0\u001b[39m])[\u001b[38;5;241m0\u001b[39m]\n",
      "File \u001b[0;32m~/miniconda3/envs/nextstrain-workflow/lib/python3.9/site-packages/numpyro/infer/util.py:938\u001b[0m, in \u001b[0;36mPredictive._call_with_params\u001b[0;34m(self, rng_key, params, args, kwargs)\u001b[0m\n\u001b[1;32m    927\u001b[0m     posterior_samples \u001b[38;5;241m=\u001b[39m _predictive(\n\u001b[1;32m    928\u001b[0m         guide_rng_key,\n\u001b[1;32m    929\u001b[0m         guide,\n\u001b[0;32m   (...)\u001b[0m\n\u001b[1;32m    935\u001b[0m         model_kwargs\u001b[38;5;241m=\u001b[39mkwargs,\n\u001b[1;32m    936\u001b[0m     )\n\u001b[1;32m    937\u001b[0m model \u001b[38;5;241m=\u001b[39m substitute(\u001b[38;5;28mself\u001b[39m\u001b[38;5;241m.\u001b[39mmodel, \u001b[38;5;28mself\u001b[39m\u001b[38;5;241m.\u001b[39mparams)\n\u001b[0;32m--> 938\u001b[0m \u001b[38;5;28;01mreturn\u001b[39;00m \u001b[43m_predictive\u001b[49m\u001b[43m(\u001b[49m\n\u001b[1;32m    939\u001b[0m \u001b[43m    \u001b[49m\u001b[43mrng_key\u001b[49m\u001b[43m,\u001b[49m\n\u001b[1;32m    940\u001b[0m \u001b[43m    \u001b[49m\u001b[43mmodel\u001b[49m\u001b[43m,\u001b[49m\n\u001b[1;32m    941\u001b[0m \u001b[43m    \u001b[49m\u001b[43mposterior_samples\u001b[49m\u001b[43m,\u001b[49m\n\u001b[1;32m    942\u001b[0m \u001b[43m    \u001b[49m\u001b[38;5;28;43mself\u001b[39;49m\u001b[38;5;241;43m.\u001b[39;49m\u001b[43m_batch_shape\u001b[49m\u001b[43m,\u001b[49m\n\u001b[1;32m    943\u001b[0m \u001b[43m    \u001b[49m\u001b[43mreturn_sites\u001b[49m\u001b[38;5;241;43m=\u001b[39;49m\u001b[38;5;28;43mself\u001b[39;49m\u001b[38;5;241;43m.\u001b[39;49m\u001b[43mreturn_sites\u001b[49m\u001b[43m,\u001b[49m\n\u001b[1;32m    944\u001b[0m \u001b[43m    \u001b[49m\u001b[43minfer_discrete\u001b[49m\u001b[38;5;241;43m=\u001b[39;49m\u001b[38;5;28;43mself\u001b[39;49m\u001b[38;5;241;43m.\u001b[39;49m\u001b[43minfer_discrete\u001b[49m\u001b[43m,\u001b[49m\n\u001b[1;32m    945\u001b[0m \u001b[43m    \u001b[49m\u001b[43mparallel\u001b[49m\u001b[38;5;241;43m=\u001b[39;49m\u001b[38;5;28;43mself\u001b[39;49m\u001b[38;5;241;43m.\u001b[39;49m\u001b[43mparallel\u001b[49m\u001b[43m,\u001b[49m\n\u001b[1;32m    946\u001b[0m \u001b[43m    \u001b[49m\u001b[43mmodel_args\u001b[49m\u001b[38;5;241;43m=\u001b[39;49m\u001b[43margs\u001b[49m\u001b[43m,\u001b[49m\n\u001b[1;32m    947\u001b[0m \u001b[43m    \u001b[49m\u001b[43mmodel_kwargs\u001b[49m\u001b[38;5;241;43m=\u001b[39;49m\u001b[43mkwargs\u001b[49m\u001b[43m,\u001b[49m\n\u001b[1;32m    948\u001b[0m \u001b[43m\u001b[49m\u001b[43m)\u001b[49m\n",
      "File \u001b[0;32m~/miniconda3/envs/nextstrain-workflow/lib/python3.9/site-packages/numpyro/infer/util.py:775\u001b[0m, in \u001b[0;36m_predictive\u001b[0;34m(rng_key, model, posterior_samples, batch_shape, return_sites, infer_discrete, parallel, model_args, model_kwargs)\u001b[0m\n\u001b[1;32m    773\u001b[0m rng_key \u001b[38;5;241m=\u001b[39m rng_key\u001b[38;5;241m.\u001b[39mreshape((\u001b[38;5;241m*\u001b[39mbatch_shape, \u001b[38;5;241m2\u001b[39m))\n\u001b[1;32m    774\u001b[0m chunk_size \u001b[38;5;241m=\u001b[39m num_samples \u001b[38;5;28;01mif\u001b[39;00m parallel \u001b[38;5;28;01melse\u001b[39;00m \u001b[38;5;241m1\u001b[39m\n\u001b[0;32m--> 775\u001b[0m \u001b[38;5;28;01mreturn\u001b[39;00m \u001b[43msoft_vmap\u001b[49m\u001b[43m(\u001b[49m\n\u001b[1;32m    776\u001b[0m \u001b[43m    \u001b[49m\u001b[43msingle_prediction\u001b[49m\u001b[43m,\u001b[49m\u001b[43m \u001b[49m\u001b[43m(\u001b[49m\u001b[43mrng_key\u001b[49m\u001b[43m,\u001b[49m\u001b[43m \u001b[49m\u001b[43mposterior_samples\u001b[49m\u001b[43m)\u001b[49m\u001b[43m,\u001b[49m\u001b[43m \u001b[49m\u001b[38;5;28;43mlen\u001b[39;49m\u001b[43m(\u001b[49m\u001b[43mbatch_shape\u001b[49m\u001b[43m)\u001b[49m\u001b[43m,\u001b[49m\u001b[43m \u001b[49m\u001b[43mchunk_size\u001b[49m\n\u001b[1;32m    777\u001b[0m \u001b[43m\u001b[49m\u001b[43m)\u001b[49m\n",
      "File \u001b[0;32m~/miniconda3/envs/nextstrain-workflow/lib/python3.9/site-packages/numpyro/util.py:410\u001b[0m, in \u001b[0;36msoft_vmap\u001b[0;34m(fn, xs, batch_ndims, chunk_size)\u001b[0m\n\u001b[1;32m    404\u001b[0m     xs \u001b[38;5;241m=\u001b[39m tree_map(\n\u001b[1;32m    405\u001b[0m         \u001b[38;5;28;01mlambda\u001b[39;00m x: jnp\u001b[38;5;241m.\u001b[39mreshape(x, prepend_shape \u001b[38;5;241m+\u001b[39m (chunk_size,) \u001b[38;5;241m+\u001b[39m jnp\u001b[38;5;241m.\u001b[39mshape(x)[\u001b[38;5;241m1\u001b[39m:]),\n\u001b[1;32m    406\u001b[0m         xs,\n\u001b[1;32m    407\u001b[0m     )\n\u001b[1;32m    408\u001b[0m     fn \u001b[38;5;241m=\u001b[39m vmap(fn)\n\u001b[0;32m--> 410\u001b[0m ys \u001b[38;5;241m=\u001b[39m \u001b[43mlax\u001b[49m\u001b[38;5;241;43m.\u001b[39;49m\u001b[43mmap\u001b[49m\u001b[43m(\u001b[49m\u001b[43mfn\u001b[49m\u001b[43m,\u001b[49m\u001b[43m \u001b[49m\u001b[43mxs\u001b[49m\u001b[43m)\u001b[49m \u001b[38;5;28;01mif\u001b[39;00m num_chunks \u001b[38;5;241m>\u001b[39m \u001b[38;5;241m1\u001b[39m \u001b[38;5;28;01melse\u001b[39;00m fn(xs)\n\u001b[1;32m    411\u001b[0m map_ndims \u001b[38;5;241m=\u001b[39m \u001b[38;5;28mint\u001b[39m(num_chunks \u001b[38;5;241m>\u001b[39m \u001b[38;5;241m1\u001b[39m) \u001b[38;5;241m+\u001b[39m \u001b[38;5;28mint\u001b[39m(chunk_size \u001b[38;5;241m>\u001b[39m \u001b[38;5;241m1\u001b[39m)\n\u001b[1;32m    412\u001b[0m ys \u001b[38;5;241m=\u001b[39m tree_map(\n\u001b[1;32m    413\u001b[0m     \u001b[38;5;28;01mlambda\u001b[39;00m y: jnp\u001b[38;5;241m.\u001b[39mreshape(\n\u001b[1;32m    414\u001b[0m         y, (\u001b[38;5;28mint\u001b[39m(np\u001b[38;5;241m.\u001b[39mprod(jnp\u001b[38;5;241m.\u001b[39mshape(y)[:map_ndims])),) \u001b[38;5;241m+\u001b[39m jnp\u001b[38;5;241m.\u001b[39mshape(y)[map_ndims:]\n\u001b[1;32m    415\u001b[0m     )[:batch_size],\n\u001b[1;32m    416\u001b[0m     ys,\n\u001b[1;32m    417\u001b[0m )\n",
      "    \u001b[0;31m[... skipping hidden 1 frame]\u001b[0m\n",
      "File \u001b[0;32m~/miniconda3/envs/nextstrain-workflow/lib/python3.9/site-packages/jax/_src/lax/control_flow/loops.py:1730\u001b[0m, in \u001b[0;36mmap\u001b[0;34m(f, xs)\u001b[0m\n\u001b[1;32m   1703\u001b[0m \u001b[38;5;124;03m\"\"\"Map a function over leading array axes.\u001b[39;00m\n\u001b[1;32m   1704\u001b[0m \n\u001b[1;32m   1705\u001b[0m \u001b[38;5;124;03mLike Python's builtin map, except inputs and outputs are in the form of\u001b[39;00m\n\u001b[0;32m   (...)\u001b[0m\n\u001b[1;32m   1727\u001b[0m \u001b[38;5;124;03m  Mapped values.\u001b[39;00m\n\u001b[1;32m   1728\u001b[0m \u001b[38;5;124;03m\"\"\"\u001b[39;00m\n\u001b[1;32m   1729\u001b[0m g \u001b[38;5;241m=\u001b[39m \u001b[38;5;28;01mlambda\u001b[39;00m _, x: ((), f(x))\n\u001b[0;32m-> 1730\u001b[0m _, ys \u001b[38;5;241m=\u001b[39m \u001b[43mscan\u001b[49m\u001b[43m(\u001b[49m\u001b[43mg\u001b[49m\u001b[43m,\u001b[49m\u001b[43m \u001b[49m\u001b[43m(\u001b[49m\u001b[43m)\u001b[49m\u001b[43m,\u001b[49m\u001b[43m \u001b[49m\u001b[43mxs\u001b[49m\u001b[43m)\u001b[49m\n\u001b[1;32m   1731\u001b[0m \u001b[38;5;28;01mreturn\u001b[39;00m ys\n",
      "    \u001b[0;31m[... skipping hidden 1 frame]\u001b[0m\n",
      "File \u001b[0;32m~/miniconda3/envs/nextstrain-workflow/lib/python3.9/site-packages/jax/_src/lax/control_flow/loops.py:275\u001b[0m, in \u001b[0;36mscan\u001b[0;34m(f, init, xs, length, reverse, unroll)\u001b[0m\n\u001b[1;32m    271\u001b[0m \u001b[38;5;28;01mif\u001b[39;00m disallowed_effects:\n\u001b[1;32m    272\u001b[0m   \u001b[38;5;28;01mraise\u001b[39;00m \u001b[38;5;167;01mNotImplementedError\u001b[39;00m(\n\u001b[1;32m    273\u001b[0m       \u001b[38;5;124mf\u001b[39m\u001b[38;5;124m'\u001b[39m\u001b[38;5;124mEffects not supported in `scan`: \u001b[39m\u001b[38;5;132;01m{\u001b[39;00mdisallowed_effects\u001b[38;5;132;01m}\u001b[39;00m\u001b[38;5;124m'\u001b[39m)\n\u001b[0;32m--> 275\u001b[0m out \u001b[38;5;241m=\u001b[39m \u001b[43mscan_p\u001b[49m\u001b[38;5;241;43m.\u001b[39;49m\u001b[43mbind\u001b[49m\u001b[43m(\u001b[49m\u001b[38;5;241;43m*\u001b[39;49m\u001b[43mconsts\u001b[49m\u001b[43m,\u001b[49m\u001b[43m \u001b[49m\u001b[38;5;241;43m*\u001b[39;49m\u001b[43min_flat\u001b[49m\u001b[43m,\u001b[49m\n\u001b[1;32m    276\u001b[0m \u001b[43m                  \u001b[49m\u001b[43mreverse\u001b[49m\u001b[38;5;241;43m=\u001b[39;49m\u001b[43mreverse\u001b[49m\u001b[43m,\u001b[49m\u001b[43m \u001b[49m\u001b[43mlength\u001b[49m\u001b[38;5;241;43m=\u001b[39;49m\u001b[43mlength\u001b[49m\u001b[43m,\u001b[49m\u001b[43m \u001b[49m\u001b[43mjaxpr\u001b[49m\u001b[38;5;241;43m=\u001b[39;49m\u001b[43mjaxpr\u001b[49m\u001b[43m,\u001b[49m\n\u001b[1;32m    277\u001b[0m \u001b[43m                  \u001b[49m\u001b[43mnum_consts\u001b[49m\u001b[38;5;241;43m=\u001b[39;49m\u001b[38;5;28;43mlen\u001b[39;49m\u001b[43m(\u001b[49m\u001b[43mconsts\u001b[49m\u001b[43m)\u001b[49m\u001b[43m,\u001b[49m\u001b[43m \u001b[49m\u001b[43mnum_carry\u001b[49m\u001b[38;5;241;43m=\u001b[39;49m\u001b[38;5;28;43mlen\u001b[39;49m\u001b[43m(\u001b[49m\u001b[43minit_flat\u001b[49m\u001b[43m)\u001b[49m\u001b[43m,\u001b[49m\n\u001b[1;32m    278\u001b[0m \u001b[43m                  \u001b[49m\u001b[43mlinear\u001b[49m\u001b[38;5;241;43m=\u001b[39;49m\u001b[43m(\u001b[49m\u001b[38;5;28;43;01mFalse\u001b[39;49;00m\u001b[43m,\u001b[49m\u001b[43m)\u001b[49m\u001b[43m \u001b[49m\u001b[38;5;241;43m*\u001b[39;49m\u001b[43m \u001b[49m\u001b[43m(\u001b[49m\u001b[38;5;28;43mlen\u001b[39;49m\u001b[43m(\u001b[49m\u001b[43mconsts\u001b[49m\u001b[43m)\u001b[49m\u001b[43m \u001b[49m\u001b[38;5;241;43m+\u001b[39;49m\u001b[43m \u001b[49m\u001b[38;5;28;43mlen\u001b[39;49m\u001b[43m(\u001b[49m\u001b[43min_flat\u001b[49m\u001b[43m)\u001b[49m\u001b[43m)\u001b[49m\u001b[43m,\u001b[49m\n\u001b[1;32m    279\u001b[0m \u001b[43m                  \u001b[49m\u001b[43munroll\u001b[49m\u001b[38;5;241;43m=\u001b[39;49m\u001b[43munroll\u001b[49m\u001b[43m)\u001b[49m\n\u001b[1;32m    280\u001b[0m \u001b[38;5;28;01mreturn\u001b[39;00m tree_unflatten(out_tree, out)\n",
      "File \u001b[0;32m~/miniconda3/envs/nextstrain-workflow/lib/python3.9/site-packages/jax/_src/lax/control_flow/loops.py:1000\u001b[0m, in \u001b[0;36mscan_bind\u001b[0;34m(*args, **params)\u001b[0m\n\u001b[1;32m    998\u001b[0m   _scan_typecheck(\u001b[38;5;28;01mTrue\u001b[39;00m, \u001b[38;5;241m*\u001b[39min_atoms, \u001b[38;5;241m*\u001b[39m\u001b[38;5;241m*\u001b[39mparams)\n\u001b[1;32m    999\u001b[0m   core\u001b[38;5;241m.\u001b[39mcheck_jaxpr(params[\u001b[38;5;124m'\u001b[39m\u001b[38;5;124mjaxpr\u001b[39m\u001b[38;5;124m'\u001b[39m]\u001b[38;5;241m.\u001b[39mjaxpr)\n\u001b[0;32m-> 1000\u001b[0m \u001b[38;5;28;01mreturn\u001b[39;00m \u001b[43mcore\u001b[49m\u001b[38;5;241;43m.\u001b[39;49m\u001b[43mAxisPrimitive\u001b[49m\u001b[38;5;241;43m.\u001b[39;49m\u001b[43mbind\u001b[49m\u001b[43m(\u001b[49m\u001b[43mscan_p\u001b[49m\u001b[43m,\u001b[49m\u001b[43m \u001b[49m\u001b[38;5;241;43m*\u001b[39;49m\u001b[43margs\u001b[49m\u001b[43m,\u001b[49m\u001b[43m \u001b[49m\u001b[38;5;241;43m*\u001b[39;49m\u001b[38;5;241;43m*\u001b[39;49m\u001b[43mparams\u001b[49m\u001b[43m)\u001b[49m\n",
      "File \u001b[0;32m~/miniconda3/envs/nextstrain-workflow/lib/python3.9/site-packages/jax/core.py:2444\u001b[0m, in \u001b[0;36mAxisPrimitive.bind\u001b[0;34m(self, *args, **params)\u001b[0m\n\u001b[1;32m   2440\u001b[0m axis_main \u001b[38;5;241m=\u001b[39m \u001b[38;5;28mmax\u001b[39m((axis_frame(a)\u001b[38;5;241m.\u001b[39mmain_trace \u001b[38;5;28;01mfor\u001b[39;00m a \u001b[38;5;129;01min\u001b[39;00m used_axis_names(\u001b[38;5;28mself\u001b[39m, params)),\n\u001b[1;32m   2441\u001b[0m                 default\u001b[38;5;241m=\u001b[39m\u001b[38;5;28;01mNone\u001b[39;00m, key\u001b[38;5;241m=\u001b[39m\u001b[38;5;28;01mlambda\u001b[39;00m t: \u001b[38;5;28mgetattr\u001b[39m(t, \u001b[38;5;124m'\u001b[39m\u001b[38;5;124mlevel\u001b[39m\u001b[38;5;124m'\u001b[39m, \u001b[38;5;241m-\u001b[39m\u001b[38;5;241m1\u001b[39m))\n\u001b[1;32m   2442\u001b[0m top_trace \u001b[38;5;241m=\u001b[39m (top_trace \u001b[38;5;28;01mif\u001b[39;00m \u001b[38;5;129;01mnot\u001b[39;00m axis_main \u001b[38;5;129;01mor\u001b[39;00m axis_main\u001b[38;5;241m.\u001b[39mlevel \u001b[38;5;241m<\u001b[39m top_trace\u001b[38;5;241m.\u001b[39mlevel\n\u001b[1;32m   2443\u001b[0m              \u001b[38;5;28;01melse\u001b[39;00m axis_main\u001b[38;5;241m.\u001b[39mwith_cur_sublevel())\n\u001b[0;32m-> 2444\u001b[0m \u001b[38;5;28;01mreturn\u001b[39;00m \u001b[38;5;28;43mself\u001b[39;49m\u001b[38;5;241;43m.\u001b[39;49m\u001b[43mbind_with_trace\u001b[49m\u001b[43m(\u001b[49m\u001b[43mtop_trace\u001b[49m\u001b[43m,\u001b[49m\u001b[43m \u001b[49m\u001b[43margs\u001b[49m\u001b[43m,\u001b[49m\u001b[43m \u001b[49m\u001b[43mparams\u001b[49m\u001b[43m)\u001b[49m\n",
      "File \u001b[0;32m~/miniconda3/envs/nextstrain-workflow/lib/python3.9/site-packages/jax/core.py:332\u001b[0m, in \u001b[0;36mPrimitive.bind_with_trace\u001b[0;34m(self, trace, args, params)\u001b[0m\n\u001b[1;32m    331\u001b[0m \u001b[38;5;28;01mdef\u001b[39;00m \u001b[38;5;21mbind_with_trace\u001b[39m(\u001b[38;5;28mself\u001b[39m, trace, args, params):\n\u001b[0;32m--> 332\u001b[0m   out \u001b[38;5;241m=\u001b[39m \u001b[43mtrace\u001b[49m\u001b[38;5;241;43m.\u001b[39;49m\u001b[43mprocess_primitive\u001b[49m\u001b[43m(\u001b[49m\u001b[38;5;28;43mself\u001b[39;49m\u001b[43m,\u001b[49m\u001b[43m \u001b[49m\u001b[38;5;28;43mmap\u001b[39;49m\u001b[43m(\u001b[49m\u001b[43mtrace\u001b[49m\u001b[38;5;241;43m.\u001b[39;49m\u001b[43mfull_raise\u001b[49m\u001b[43m,\u001b[49m\u001b[43m \u001b[49m\u001b[43margs\u001b[49m\u001b[43m)\u001b[49m\u001b[43m,\u001b[49m\u001b[43m \u001b[49m\u001b[43mparams\u001b[49m\u001b[43m)\u001b[49m\n\u001b[1;32m    333\u001b[0m   \u001b[38;5;28;01mreturn\u001b[39;00m \u001b[38;5;28mmap\u001b[39m(full_lower, out) \u001b[38;5;28;01mif\u001b[39;00m \u001b[38;5;28mself\u001b[39m\u001b[38;5;241m.\u001b[39mmultiple_results \u001b[38;5;28;01melse\u001b[39;00m full_lower(out)\n",
      "File \u001b[0;32m~/miniconda3/envs/nextstrain-workflow/lib/python3.9/site-packages/jax/core.py:712\u001b[0m, in \u001b[0;36mEvalTrace.process_primitive\u001b[0;34m(self, primitive, tracers, params)\u001b[0m\n\u001b[1;32m    711\u001b[0m \u001b[38;5;28;01mdef\u001b[39;00m \u001b[38;5;21mprocess_primitive\u001b[39m(\u001b[38;5;28mself\u001b[39m, primitive, tracers, params):\n\u001b[0;32m--> 712\u001b[0m   \u001b[38;5;28;01mreturn\u001b[39;00m \u001b[43mprimitive\u001b[49m\u001b[38;5;241;43m.\u001b[39;49m\u001b[43mimpl\u001b[49m\u001b[43m(\u001b[49m\u001b[38;5;241;43m*\u001b[39;49m\u001b[43mtracers\u001b[49m\u001b[43m,\u001b[49m\u001b[43m \u001b[49m\u001b[38;5;241;43m*\u001b[39;49m\u001b[38;5;241;43m*\u001b[39;49m\u001b[43mparams\u001b[49m\u001b[43m)\u001b[49m\n",
      "File \u001b[0;32m~/miniconda3/envs/nextstrain-workflow/lib/python3.9/site-packages/jax/_src/dispatch.py:115\u001b[0m, in \u001b[0;36mapply_primitive\u001b[0;34m(prim, *args, **params)\u001b[0m\n\u001b[1;32m    112\u001b[0m \u001b[38;5;124;03m\"\"\"Impl rule that compiles and runs a single primitive 'prim' using XLA.\"\"\"\u001b[39;00m\n\u001b[1;32m    113\u001b[0m compiled_fun \u001b[38;5;241m=\u001b[39m xla_primitive_callable(prim, \u001b[38;5;241m*\u001b[39munsafe_map(arg_spec, args),\n\u001b[1;32m    114\u001b[0m                                       \u001b[38;5;241m*\u001b[39m\u001b[38;5;241m*\u001b[39mparams)\n\u001b[0;32m--> 115\u001b[0m \u001b[38;5;28;01mreturn\u001b[39;00m \u001b[43mcompiled_fun\u001b[49m\u001b[43m(\u001b[49m\u001b[38;5;241;43m*\u001b[39;49m\u001b[43margs\u001b[49m\u001b[43m)\u001b[49m\n",
      "File \u001b[0;32m~/miniconda3/envs/nextstrain-workflow/lib/python3.9/site-packages/jax/_src/dispatch.py:895\u001b[0m, in \u001b[0;36m_execute_compiled\u001b[0;34m(name, compiled, input_handler, output_buffer_counts, result_handler, has_unordered_effects, ordered_effects, kept_var_idx, has_host_callbacks, *args)\u001b[0m\n\u001b[1;32m    893\u001b[0m     runtime_token \u001b[38;5;241m=\u001b[39m \u001b[38;5;28;01mNone\u001b[39;00m\n\u001b[1;32m    894\u001b[0m \u001b[38;5;28;01melse\u001b[39;00m:\n\u001b[0;32m--> 895\u001b[0m   out_flat \u001b[38;5;241m=\u001b[39m \u001b[43mcompiled\u001b[49m\u001b[38;5;241;43m.\u001b[39;49m\u001b[43mexecute\u001b[49m\u001b[43m(\u001b[49m\u001b[43min_flat\u001b[49m\u001b[43m)\u001b[49m\n\u001b[1;32m    896\u001b[0m check_special(name, out_flat)\n\u001b[1;32m    897\u001b[0m out_bufs \u001b[38;5;241m=\u001b[39m unflatten(out_flat, output_buffer_counts)\n",
      "\u001b[0;31mKeyboardInterrupt\u001b[0m: "
     ]
    }
   ],
   "source": [
    "# Defining model\n",
    "mlr = ef.InnovationMLR(tau=4.2)\n",
    "# Defining inference method\n",
    "inference_method = ef.InferFullRank(iters=50_000, lr=4e-3, num_samples=100)\n",
    "# Fitting model\n",
    "posterior = inference_method.fit(mlr, variant_frequencies)\n",
    "samples = posterior.samples"
   ]
  },
  {
   "cell_type": "code",
   "execution_count": null,
   "id": "e6c282ef",
   "metadata": {},
   "outputs": [],
   "source": [
    "innovation_ga = pd.DataFrame(\n",
    "    ef.posterior.get_growth_advantage(samples, posterior.data, ps=[0.8], name=\"USA\", rel_to=\"BA.2\")\n",
    ")"
   ]
  },
  {
   "cell_type": "code",
   "execution_count": null,
   "id": "af7d8e19",
   "metadata": {},
   "outputs": [],
   "source": [
    "#viewing innovation ga df\n",
    "innovation_ga"
   ]
  },
  {
   "cell_type": "markdown",
   "id": "36d74f2e",
   "metadata": {},
   "source": [
    "# Comparing Innovation and Mutational Growth Advantages"
   ]
  },
  {
   "cell_type": "code",
   "execution_count": null,
   "id": "75eea183",
   "metadata": {},
   "outputs": [],
   "source": [
    "# resolving weird formatting issues btwn csv and loading pandas df??\n",
    "mut_ga.to_csv('mut_ga.tsv', sep=\"\\t\")\n",
    "innovation_ga.to_csv('innov_ga.tsv', sep=\"\\t\")"
   ]
  },
  {
   "cell_type": "code",
   "execution_count": null,
   "id": "1ad33244",
   "metadata": {},
   "outputs": [],
   "source": [
    "# loading in datasets\n",
    "parent_variant_relationships = pd.read_csv(\"../count-data/pango_variant-relationships.tsv\", sep=\"\\t\").set_index(\"variant\")\n",
    "mut_ga = pd.read_csv(\"mut_ga.tsv\", sep=\"\\t\")\n",
    "innovation_ga = pd.read_csv(\"innov_ga.tsv\", sep=\"\\t\")"
   ]
  },
  {
   "cell_type": "code",
   "execution_count": null,
   "id": "bbc85221",
   "metadata": {},
   "outputs": [],
   "source": [
    "# Prep to merge\n",
    "def clean_and_merge(innovation_ga, mut_ga, parent_variant_relationships):\n",
    "    innovation_ga = (innovation_ga\n",
    "                     .rename(columns={\"median_ga\": \"innov-ga\"})\n",
    "                     [[\"variant\", \"innov-ga\"]])\n",
    "\n",
    "    mut_ga = (mut_ga\n",
    "              .rename(columns={\"median_ga\": \"mut-ga\"})\n",
    "              [[\"variant\", \"mut-ga\"]])\n",
    "\n",
    "    ga_df = innovation_ga.merge(mut_ga, how=\"right\").set_index(\"variant\")\n",
    "    ga_df[\"mut-ga\"] = ga_df[\"mut-ga\"] / ga_df.loc[\"BA.2.1\"][\"mut-ga\"] # Scale GA by BA.2.1\n",
    "\n",
    "    # Add parents\n",
    "    def _get_parent(row):\n",
    "        variant = row.name\n",
    "        if variant in parent_variant_relationships.index:\n",
    "            return parent_variant_relationships.loc[variant]\n",
    "        return \"NAN\"\n",
    "\n",
    "    ga_df[\"parent\"] = ga_df.apply(_get_parent, axis=1)\n",
    "    return ga_df"
   ]
  },
  {
   "cell_type": "code",
   "execution_count": null,
   "id": "7db1204e",
   "metadata": {},
   "outputs": [],
   "source": [
    "ga_df = clean_and_merge(innovation_ga, mut_ga, parent_variant_relationships)"
   ]
  },
  {
   "cell_type": "code",
   "execution_count": null,
   "id": "b2e8e871",
   "metadata": {},
   "outputs": [],
   "source": [
    "# Look for parent for mut-parent-ga\n",
    "def add_deltas(row, prefix):\n",
    "    # Give up if parent not found\n",
    "    if row.parent not in ga_df.index:\n",
    "        return pd.Series([np.nan, np.nan],\n",
    "                         index=[prefix + \"-parent-ga\", prefix + \"-pc-ratio\"])\n",
    "    # Get child growth advantage\n",
    "    parent_row = ga_df.loc[row.parent]\n",
    "    \n",
    "    # Return parent ga and ratio\n",
    "    return pd.Series([parent_row[prefix + \"-ga\"],  row[prefix + \"-ga\"] / parent_row[prefix + \"-ga\"]],\n",
    "                         index=[prefix + \"-parent-ga\", prefix + \"-pc-ratio\"])\n",
    "    \n",
    "ga_df[[\"mut-parent-ga\", \"mut-pc-ratio\"]] = ga_df.apply(add_deltas, prefix=\"mut\", axis=1)\n",
    "ga_df[[\"innov-parent-ga\", \"innov-pc-ratio\"]] = ga_df.apply(add_deltas, prefix=\"innov\", axis=1)"
   ]
  },
  {
   "cell_type": "code",
   "execution_count": null,
   "id": "6f021fe0",
   "metadata": {},
   "outputs": [],
   "source": [
    "def is_outlier_IQR(data, col, scale=1.5):\n",
    "    \"\"\"\n",
    "    Find wheter outliers in column col from dataframe data\n",
    "    Uses IQR rule based on normal approximation.\n",
    "    \"\"\"\n",
    "\n",
    "    Q3 = np.quantile(data[col], 0.75)\n",
    "    Q1 = np.quantile(data[col], 0.25)\n",
    "    IQR = Q3 - Q1\n",
    "    lower_bound = Q1 - scale * IQR\n",
    "    upper_bound = Q3 + scale * IQR\n",
    "    return (data[col] < lower_bound) | (data[col] > upper_bound)\n",
    "\n",
    "    \n",
    "ga_df[\"innov-mut-ratio\"] = ga_df[\"innov-ga\"] / ga_df[\"mut-ga\"]\n",
    "ga_df[\"log-innov-mut-ratio\"] = np.log(ga_df[\"innov-ga\"] / ga_df[\"mut-ga\"])\n",
    "ga_df[\"outlier\"] = is_outlier_IQR(ga_df, \"log-innov-mut-ratio\") # log-innov-mut-ratio ~ Normal()"
   ]
  },
  {
   "cell_type": "code",
   "execution_count": null,
   "id": "1ae6c50c",
   "metadata": {},
   "outputs": [],
   "source": [
    "# viewing ga_df\n",
    "ga_df"
   ]
  },
  {
   "cell_type": "markdown",
   "id": "7b2ee094",
   "metadata": {},
   "source": [
    "## Plotting mutational ga vs. innovation ga"
   ]
  },
  {
   "cell_type": "markdown",
   "id": "d3a691cc",
   "metadata": {},
   "source": [
    "Each datapoint is a variant. Red datapoints are variants in which the rato between innovation/mutational ga is considered an outlier. Therefore, red variants might indicate epistasis where blue datapoint variants would indicate no epistasis. "
   ]
  },
  {
   "cell_type": "code",
   "execution_count": null,
   "id": "85f3c028",
   "metadata": {},
   "outputs": [],
   "source": [
    "# Coloring by outlier\n",
    "plt.scatter(ga_df[\"innov-ga\"], ga_df[\"mut-ga\"], \n",
    "            color=[\"pink\" if value else \"lightblue\" for value in ga_df.outlier], \n",
    "            ec=\"k\")\n",
    "plt.plot([0.5, 2.5], [0.5, 2.5], color=\"k\", linestyle=\"--\")\n",
    "plt.xlabel(\"Innovation GA\")\n",
    "plt.ylabel(\"Mutation GA\")"
   ]
  },
  {
   "cell_type": "markdown",
   "id": "30b17341",
   "metadata": {},
   "source": [
    "# Looking at Outliers"
   ]
  },
  {
   "cell_type": "code",
   "execution_count": null,
   "id": "c9573310",
   "metadata": {},
   "outputs": [],
   "source": [
    "# Defining outliers\n",
    "outliers = ga_df[ga_df.outlier & (ga_df[\"mut-pc-ratio\"] < 0.5)]"
   ]
  },
  {
   "cell_type": "code",
   "execution_count": null,
   "id": "c7473060",
   "metadata": {},
   "outputs": [],
   "source": [
    "# Looking at outliers in bottom right with low ga\n",
    "outliers"
   ]
  },
  {
   "cell_type": "markdown",
   "id": "d120d4c3",
   "metadata": {},
   "source": [
    "# Verifying Outlier Mutational GA Assignments"
   ]
  },
  {
   "cell_type": "markdown",
   "id": "b90f5225",
   "metadata": {},
   "source": [
    "Given that:\n",
    "\n",
    "    relative_fitness_variant = sum(mutational_fitness for mutation in variant)\n",
    "    mutational_ga_variant = exp(relative_fitness_variant * generation_time)\n",
    "    generation_time is fixed at 4.2\n",
    "\n",
    "The calculated_ga variable for each variant is assigned using the equation above. "
   ]
  },
  {
   "cell_type": "code",
   "execution_count": null,
   "id": "70a592b7",
   "metadata": {},
   "outputs": [],
   "source": [
    "# compiling outlier summary table with indv fitnesses and mutational ga\n",
    "\n",
    "# just looking at outliers for now\n",
    "outlier_variants = ga_df[ga_df[\"outlier\"]].index\n",
    "# group by variants\n",
    "grouped = mutations_summary.groupby('variant')\n",
    "# final df\n",
    "rows_for_tsv = []\n",
    "for name, group in grouped:\n",
    "    if name in outlier_variants:\n",
    "        variant_dict = {}\n",
    "        mutations = group['mutation']\n",
    "        variant_dict['variant'] = name\n",
    "        mut_ga = group['median_ga'].iloc[0]\n",
    "        variant_dict['mut_ga'] = mut_ga\n",
    "        cum_sum = 0\n",
    "        for m in mutations:\n",
    "            # grabbing the fitness effect  of each mutation\n",
    "            fitness_effect = group.loc[group['mutation'] == m, 'fitness_effect'].iloc[0]\n",
    "            variant_dict[m] = fitness_effect\n",
    "            # summing up all mutation fitnesses\n",
    "            cum_sum += fitness_effect\n",
    "        # multiply by generation time and raise e to this number\n",
    "        calculated_ga = math.exp(cum_sum * 4.2)\n",
    "        variant_dict['calculated_ga'] = calculated_ga\n",
    "        variant_dict['match'] = (mut_ga == calculated_ga)\n",
    "        rows_for_tsv.append(variant_dict)\n",
    "resulting_table = pd.DataFrame(rows_for_tsv)      "
   ]
  },
  {
   "cell_type": "code",
   "execution_count": null,
   "id": "9d3981ef",
   "metadata": {},
   "outputs": [],
   "source": [
    "resulting_table"
   ]
  },
  {
   "cell_type": "code",
   "execution_count": null,
   "id": "e2b5d344",
   "metadata": {},
   "outputs": [],
   "source": [
    "#aesthetic changes to the summary df\n",
    "\n",
    "# moving mut_ga to end \n",
    "cols_at_end = ['calculated_ga', 'mut_ga', 'match']\n",
    "resulting_table = resulting_table[[c for c in resulting_table if c not in cols_at_end] \n",
    "        + [c for c in cols_at_end if c in resulting_table]]\n",
    "# concatenating innovation ga column info \n",
    "trimmed = ga_df[ga_df[\"outlier\"]].drop(columns=['mut-ga','parent','mut-parent-ga','mut-pc-ratio','innov-parent-ga','innov-pc-ratio','innov-mut-ratio','log-innov-mut-ratio','outlier'])\n",
    "merged = pd.merge(resulting_table, trimmed, on=\"variant\", how=\"left\")\n",
    "resulting_table = merged"
   ]
  },
  {
   "cell_type": "code",
   "execution_count": null,
   "id": "75507610",
   "metadata": {},
   "outputs": [],
   "source": [
    "# viewing mutational fitnesses for outliers\n",
    "resulting_table"
   ]
  },
  {
   "cell_type": "code",
   "execution_count": null,
   "id": "29615a22",
   "metadata": {},
   "outputs": [],
   "source": [
    "# saving summary table to csv\n",
    "resulting_table.to_csv('reformatted_table.tsv', sep='\\t')"
   ]
  },
  {
   "cell_type": "markdown",
   "id": "92b957bb",
   "metadata": {},
   "source": [
    "## Outstanding Questions"
   ]
  },
  {
   "cell_type": "markdown",
   "id": "0b88dbd6",
   "metadata": {},
   "source": [
    "The calculated ga and assigned mutational ga should match for each variant. As seen above, none of them do. What is going on?"
   ]
  }
 ],
 "metadata": {
  "kernelspec": {
   "display_name": "Python 3 (ipykernel)",
   "language": "python",
   "name": "python3"
  },
  "language_info": {
   "codemirror_mode": {
    "name": "ipython",
    "version": 3
   },
   "file_extension": ".py",
   "mimetype": "text/x-python",
   "name": "python",
   "nbconvert_exporter": "python",
   "pygments_lexer": "ipython3",
   "version": "3.9.13"
  }
 },
 "nbformat": 4,
 "nbformat_minor": 5
}
