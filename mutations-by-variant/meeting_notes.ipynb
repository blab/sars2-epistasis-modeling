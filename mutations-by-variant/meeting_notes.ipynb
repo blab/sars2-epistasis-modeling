{
 "cells": [
  {
   "cell_type": "markdown",
   "id": "2c3bf258",
   "metadata": {},
   "source": [
    "## 7/19/2023"
   ]
  },
  {
   "cell_type": "markdown",
   "id": "69640c85",
   "metadata": {},
   "source": [
    "### Notes:\n",
    "\n",
    "found that variants that are present in the sequence counts input, but not in the raw mutations input get assigned 0 mutations by the model"
   ]
  },
  {
   "cell_type": "markdown",
   "id": "b9f5ebc1",
   "metadata": {},
   "source": [
    "### Action Items:\n",
    "- recheck if mutations are correct\n",
    "- make another notebook for meeting notes and stuff to do\n",
    "- if time: use json file to verify counts\n",
    "- rerun entire notebook with removed 0 counts in other and B.1.1.2.9 whatever"
   ]
  },
  {
   "cell_type": "markdown",
   "id": "48e58525",
   "metadata": {},
   "source": [
    "### Notes for next meeting:\n",
    "- when I do not include the child node, the graph looks similar to before, but without outliers....\n",
    "- when I do include the child node, there are 5 outliers...\n",
    "\n",
    "\n",
    "Do I include the child node or not, I can try messaging katie quickly?? I forgot why we originally did not include the child node itself when counting mutations\n",
    "\n",
    "- the calculated and assigned growth advantages do match tho, so that is good news"
   ]
  },
  {
   "cell_type": "markdown",
   "id": "e90e8f5f",
   "metadata": {},
   "source": [
    "This is the graph not including the child node\n",
    "![alt text](graph-no-child.PNG)"
   ]
  },
  {
   "cell_type": "markdown",
   "id": "73944836",
   "metadata": {},
   "source": [
    "This is the graph including the child node\n",
    "![alt text](graph-with-child.PNG)\n",
    "\n",
    "highkey what is going on here, why are the assigned mutation GAs so low when we include the child node?"
   ]
  },
  {
   "cell_type": "markdown",
   "id": "d46bfd24",
   "metadata": {},
   "source": [
    "### 7/25/23"
   ]
  },
  {
   "cell_type": "markdown",
   "id": "dfc4a54f",
   "metadata": {},
   "source": [
    "### Action Items\n",
    "- document pipeline steps + data collection steps and ask channel for feedback..."
   ]
  },
  {
   "cell_type": "markdown",
   "id": "460f25c4",
   "metadata": {},
   "source": [
    "### Notes:\n",
    "- Marlin will check on the model in the meantime\n",
    "- We should probably be including the child node when counting mutations, since a lot of things look the same if we don't include the child node\n"
   ]
  },
  {
   "cell_type": "markdown",
   "id": "71ffa301",
   "metadata": {},
   "source": [
    "### 8/25/23"
   ]
  },
  {
   "cell_type": "markdown",
   "id": "c966669a",
   "metadata": {},
   "source": [
    "### Action Items\n",
    "- Follow up with Marlin for model progress\n",
    "- decide date to meet with katie after more thought"
   ]
  },
  {
   "cell_type": "markdown",
   "id": "9c9621d6",
   "metadata": {},
   "source": [
    "### Notes:\n",
    "- More to discuss the week after"
   ]
  },
  {
   "cell_type": "code",
   "execution_count": null,
   "id": "aa84ecfd",
   "metadata": {},
   "outputs": [],
   "source": []
  }
 ],
 "metadata": {
  "kernelspec": {
   "display_name": "Python 3 (ipykernel)",
   "language": "python",
   "name": "python3"
  },
  "language_info": {
   "codemirror_mode": {
    "name": "ipython",
    "version": 3
   },
   "file_extension": ".py",
   "mimetype": "text/x-python",
   "name": "python",
   "nbconvert_exporter": "python",
   "pygments_lexer": "ipython3",
   "version": "3.9.13"
  }
 },
 "nbformat": 4,
 "nbformat_minor": 5
}
