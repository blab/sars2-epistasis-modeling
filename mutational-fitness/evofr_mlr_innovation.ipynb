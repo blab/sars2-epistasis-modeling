{
 "cells": [
  {
   "cell_type": "code",
   "execution_count": 1,
   "id": "2762e536",
   "metadata": {},
   "outputs": [],
   "source": [
    "import pandas as pd\n",
    "import numpy as np\n",
    "import jax.numpy as jnp\n",
    "import evofr as ef\n",
    "import matplotlib.pyplot as plt"
   ]
  },
  {
   "cell_type": "code",
   "execution_count": 2,
   "id": "4d621e95",
   "metadata": {},
   "outputs": [],
   "source": [
    "# Getting data\n",
    "raw_seq = pd.read_csv(\"../data/pango_location-variant-sequence-counts.tsv\", sep=\"\\t\")\n",
    "# raw_variant_parents is missing a row for BA.2, so append one\n",
    "raw_variant_parents = pd.concat((pd.read_csv(\"../data/pango_variant-relationships.tsv\", sep=\"\\t\"),\n",
    "                                pd.DataFrame({\"variant\": [\"BA.2\"], \"parent\": [\"base\"]}))).reset_index(drop=True)\n",
    "variant_frequencies = ef.InnovationSequenceCounts(raw_seq, raw_variant_parents, pivot=\"BA.2\")"
   ]
  },
  {
   "cell_type": "code",
   "execution_count": 3,
   "id": "8f9ac2ec",
   "metadata": {},
   "outputs": [],
   "source": [
    "# Defining model\n",
    "mlr = ef.InnovationMLR(tau=4.2)"
   ]
  },
  {
   "cell_type": "code",
   "execution_count": 5,
   "id": "b78e8853",
   "metadata": {},
   "outputs": [],
   "source": [
    "# Defining inference method\n",
    "inference_method = ef.InferFullRank(iters=50_000, lr=4e-3, num_samples=100)"
   ]
  },
  {
   "cell_type": "code",
   "execution_count": 6,
   "id": "760d058a",
   "metadata": {},
   "outputs": [],
   "source": [
    "# Fitting model\n",
    "posterior = inference_method.fit(mlr, variant_frequencies)\n",
    "samples = posterior.samples"
   ]
  },
  {
   "cell_type": "code",
   "execution_count": 7,
   "id": "88de95a3",
   "metadata": {},
   "outputs": [
    {
     "data": {
      "text/plain": [
       "Text(0, 0.5, 'loss')"
      ]
     },
     "execution_count": 7,
     "metadata": {},
     "output_type": "execute_result"
    },
    {
     "data": {
      "image/png": "[encoded data removed]",
      "text/plain": [
       "<Figure size 640x480 with 1 Axes>"
      ]
     },
     "metadata": {},
     "output_type": "display_data"
    }
   ],
   "source": [
    "plt.plot(posterior.samples[\"losses\"])\n",
    "plt.yscale(\"log\")\n",
    "plt.xlabel(\"iterations\")\n",
    "plt.ylabel(\"loss\")"
   ]
  },
  {
   "cell_type": "code",
   "execution_count": 8,
   "id": "statewide-harris",
   "metadata": {},
   "outputs": [],
   "source": [
    "ga = samples[\"ga\"]"
   ]
  },
  {
   "cell_type": "code",
   "execution_count": 9,
   "id": "standing-burning",
   "metadata": {},
   "outputs": [
    {
     "data": {
      "text/plain": [
       "(100, 184)"
      ]
     },
     "execution_count": 9,
     "metadata": {},
     "output_type": "execute_result"
    }
   ],
   "source": [
    "ga.shape"
   ]
  },
  {
   "cell_type": "code",
   "execution_count": 9,
   "id": "expected-basis",
   "metadata": {},
   "outputs": [
    {
     "data": {
      "text/plain": [
       "jaxlib.xla_extension.DeviceArray"
      ]
     },
     "execution_count": 9,
     "metadata": {},
     "output_type": "execute_result"
    }
   ],
   "source": [
    "type(ga)"
   ]
  },
  {
   "cell_type": "code",
   "execution_count": 10,
   "id": "fa2e4ed5",
   "metadata": {},
   "outputs": [
    {
     "data": {
      "text/plain": [
       "['B.1.1.529',\n",
       " 'BA.1',\n",
       " 'BA.1.1',\n",
       " 'BA.1.1.1',\n",
       " 'BA.1.1.10',\n",
       " 'BA.1.1.14',\n",
       " 'BA.1.1.16',\n",
       " 'BA.1.1.18',\n",
       " 'BA.1.1.2',\n",
       " 'BA.1.15']"
      ]
     },
     "execution_count": 10,
     "metadata": {},
     "output_type": "execute_result"
    }
   ],
   "source": [
    "posterior.data.var_names[:10]"
   ]
  },
  {
   "cell_type": "code",
   "execution_count": 11,
   "id": "2389eaf8",
   "metadata": {},
   "outputs": [
    {
     "data": {
      "text/html": [
       "<div>\n",
       "<style scoped>\n",
       "    .dataframe tbody tr th:only-of-type {\n",
       "        vertical-align: middle;\n",
       "    }\n",
       "\n",
       "    .dataframe tbody tr th {\n",
       "        vertical-align: top;\n",
       "    }\n",
       "\n",
       "    .dataframe thead th {\n",
       "        text-align: right;\n",
       "    }\n",
       "</style>\n",
       "<table border=\"1\" class=\"dataframe\">\n",
       "  <thead>\n",
       "    <tr style=\"text-align: right;\">\n",
       "      <th></th>\n",
       "      <th>location</th>\n",
       "      <th>variant</th>\n",
       "      <th>median_ga</th>\n",
       "      <th>ga_upper_80</th>\n",
       "      <th>ga_lower_80</th>\n",
       "    </tr>\n",
       "  </thead>\n",
       "  <tbody>\n",
       "    <tr>\n",
       "      <th>0</th>\n",
       "      <td>USA</td>\n",
       "      <td>B.1.1.529</td>\n",
       "      <td>1.5950956</td>\n",
       "      <td>1.6061066</td>\n",
       "      <td>1.5850044</td>\n",
       "    </tr>\n",
       "    <tr>\n",
       "      <th>1</th>\n",
       "      <td>USA</td>\n",
       "      <td>BA.1</td>\n",
       "      <td>0.6462755</td>\n",
       "      <td>0.6489429</td>\n",
       "      <td>0.644454</td>\n",
       "    </tr>\n",
       "    <tr>\n",
       "      <th>2</th>\n",
       "      <td>USA</td>\n",
       "      <td>BA.1.1</td>\n",
       "      <td>0.6718935</td>\n",
       "      <td>0.6737284</td>\n",
       "      <td>0.67022383</td>\n",
       "    </tr>\n",
       "    <tr>\n",
       "      <th>3</th>\n",
       "      <td>USA</td>\n",
       "      <td>BA.1.1.1</td>\n",
       "      <td>0.6784698</td>\n",
       "      <td>0.69876975</td>\n",
       "      <td>0.65971243</td>\n",
       "    </tr>\n",
       "    <tr>\n",
       "      <th>4</th>\n",
       "      <td>USA</td>\n",
       "      <td>BA.1.1.10</td>\n",
       "      <td>0.74011064</td>\n",
       "      <td>0.754721</td>\n",
       "      <td>0.72983587</td>\n",
       "    </tr>\n",
       "    <tr>\n",
       "      <th>5</th>\n",
       "      <td>USA</td>\n",
       "      <td>BA.1.1.14</td>\n",
       "      <td>0.6896542</td>\n",
       "      <td>0.7056107</td>\n",
       "      <td>0.6739731</td>\n",
       "    </tr>\n",
       "    <tr>\n",
       "      <th>6</th>\n",
       "      <td>USA</td>\n",
       "      <td>BA.1.1.16</td>\n",
       "      <td>0.70974934</td>\n",
       "      <td>0.72350246</td>\n",
       "      <td>0.69610196</td>\n",
       "    </tr>\n",
       "    <tr>\n",
       "      <th>7</th>\n",
       "      <td>USA</td>\n",
       "      <td>BA.1.1.18</td>\n",
       "      <td>0.6357476</td>\n",
       "      <td>0.6407994</td>\n",
       "      <td>0.63167816</td>\n",
       "    </tr>\n",
       "    <tr>\n",
       "      <th>8</th>\n",
       "      <td>USA</td>\n",
       "      <td>BA.1.1.2</td>\n",
       "      <td>0.6071195</td>\n",
       "      <td>0.62646276</td>\n",
       "      <td>0.5860163</td>\n",
       "    </tr>\n",
       "    <tr>\n",
       "      <th>9</th>\n",
       "      <td>USA</td>\n",
       "      <td>BA.1.15</td>\n",
       "      <td>0.62820584</td>\n",
       "      <td>0.63341564</td>\n",
       "      <td>0.62365097</td>\n",
       "    </tr>\n",
       "  </tbody>\n",
       "</table>\n",
       "</div>"
      ],
      "text/plain": [
       "  location    variant   median_ga ga_upper_80 ga_lower_80\n",
       "0      USA  B.1.1.529   1.5950956   1.6061066   1.5850044\n",
       "1      USA       BA.1   0.6462755   0.6489429    0.644454\n",
       "2      USA     BA.1.1   0.6718935   0.6737284  0.67022383\n",
       "3      USA   BA.1.1.1   0.6784698  0.69876975  0.65971243\n",
       "4      USA  BA.1.1.10  0.74011064    0.754721  0.72983587\n",
       "5      USA  BA.1.1.14   0.6896542   0.7056107   0.6739731\n",
       "6      USA  BA.1.1.16  0.70974934  0.72350246  0.69610196\n",
       "7      USA  BA.1.1.18   0.6357476   0.6407994  0.63167816\n",
       "8      USA   BA.1.1.2   0.6071195  0.62646276   0.5860163\n",
       "9      USA    BA.1.15  0.62820584  0.63341564  0.62365097"
      ]
     },
     "execution_count": 11,
     "metadata": {},
     "output_type": "execute_result"
    }
   ],
   "source": [
    "ga_df = pd.DataFrame(\n",
    "    ef.posterior.get_growth_advantage(samples, posterior.data, ps=[0.8], name=\"USA\", rel_to=\"BA.2\")\n",
    ")\n",
    "ga_df.head(10)"
   ]
  },
  {
   "cell_type": "code",
   "execution_count": 12,
   "id": "retained-caution",
   "metadata": {},
   "outputs": [],
   "source": [
    "ga_df.to_csv('growth_advantages.tsv', sep=\"\\t\")"
   ]
  },
  {
   "cell_type": "code",
   "execution_count": 16,
   "id": "e71afed2",
   "metadata": {},
   "outputs": [],
   "source": [
    "def get_growth_advantage_delta(samples, data, ps, name, rel_to=\"other\"):\n",
    "    # Unpack variant info\n",
    "    var_names = data.var_names\n",
    "    par_names = [data.parent_map[v] for v in var_names]\n",
    "\n",
    "    # Get posterior samples\n",
    "    ga = jnp.array(jnp.exp(samples[\"delta\"]))\n",
    "    N_variant = ga.shape[-1]\n",
    "\n",
    "    # Loop over ga and make relative rel_to\n",
    "    for i, s in enumerate(var_names):\n",
    "        if s == rel_to:\n",
    "            ga = jnp.divide(ga, ga[:, i][:, None])\n",
    "\n",
    "    #ga = jnp.divide(ga, ga[:, var_names.index(rel_to)][:, None])\n",
    "\n",
    "    # Compute medians and quantiles\n",
    "    meds = jnp.median(ga, axis=0)\n",
    "    gas = []\n",
    "    for i, p in enumerate(ps):\n",
    "        up = 0.5 + p / 2\n",
    "        lp = 0.5 - p / 2\n",
    "        gas.append(jnp.quantile(ga, jnp.array([lp, up]), axis=0).T)\n",
    "\n",
    "    # Make empty dictionary\n",
    "    v_dict = dict()\n",
    "    v_dict[\"location\"] = []\n",
    "    v_dict[\"variant\"] = []\n",
    "    v_dict[\"parent\"] = []\n",
    "    v_dict[\"median_ga_delta\"] = []\n",
    "\n",
    "    for p in ps:\n",
    "        v_dict[f\"ga_delta_upper_{round(p * 100)}\"] = []\n",
    "        v_dict[f\"ga_delta_lower_{round(p * 100)}\"] = []\n",
    "\n",
    "    for variant in range(N_variant):\n",
    "        if var_names[variant] != rel_to:\n",
    "            v_dict[\"location\"].append(name)\n",
    "            v_dict[\"variant\"].append(var_names[variant])\n",
    "            v_dict[\"parent\"].append(par_names[variant])\n",
    "            v_dict[\"median_ga_delta\"].append(meds[variant])\n",
    "            for i, p in enumerate(ps):\n",
    "                v_dict[f\"ga_delta_upper_{round(p * 100)}\"].append(gas[i][variant, 1])\n",
    "                v_dict[f\"ga_delta_lower_{round(p * 100)}\"].append(gas[i][variant, 0])\n",
    "\n",
    "    return v_dict"
   ]
  },
  {
   "cell_type": "code",
   "execution_count": 17,
   "id": "93cd39d4",
   "metadata": {},
   "outputs": [
    {
     "ename": "KeyError",
     "evalue": "'BE.5'",
     "output_type": "error",
     "traceback": [
      "\u001b[0;31m---------------------------------------------------------------------------\u001b[0m",
      "\u001b[0;31mKeyError\u001b[0m                                  Traceback (most recent call last)",
      "Cell \u001b[0;32mIn[17], line 2\u001b[0m\n\u001b[1;32m      1\u001b[0m ga_delta_df \u001b[38;5;241m=\u001b[39m pd\u001b[38;5;241m.\u001b[39mDataFrame(\n\u001b[0;32m----> 2\u001b[0m     \u001b[43mget_growth_advantage_delta\u001b[49m\u001b[43m(\u001b[49m\u001b[43msamples\u001b[49m\u001b[43m,\u001b[49m\u001b[43m \u001b[49m\u001b[43mvariant_frequencies\u001b[49m\u001b[43m,\u001b[49m\u001b[43m \u001b[49m\u001b[43m[\u001b[49m\u001b[38;5;241;43m0.8\u001b[39;49m\u001b[43m]\u001b[49m\u001b[43m,\u001b[49m\u001b[43m \u001b[49m\u001b[38;5;124;43m\"\u001b[39;49m\u001b[38;5;124;43mUSA\u001b[39;49m\u001b[38;5;124;43m\"\u001b[39;49m\u001b[43m,\u001b[49m\u001b[43m \u001b[49m\u001b[43mrel_to\u001b[49m\u001b[38;5;241;43m=\u001b[39;49m\u001b[38;5;124;43m\"\u001b[39;49m\u001b[38;5;124;43mBA.2\u001b[39;49m\u001b[38;5;124;43m\"\u001b[39;49m\u001b[43m)\u001b[49m\n\u001b[1;32m      3\u001b[0m )\n\u001b[1;32m      4\u001b[0m ga_delta_df\u001b[38;5;241m.\u001b[39mhead(\u001b[38;5;241m10\u001b[39m)\n",
      "Cell \u001b[0;32mIn[16], line 4\u001b[0m, in \u001b[0;36mget_growth_advantage_delta\u001b[0;34m(samples, data, ps, name, rel_to)\u001b[0m\n\u001b[1;32m      1\u001b[0m \u001b[38;5;28;01mdef\u001b[39;00m \u001b[38;5;21mget_growth_advantage_delta\u001b[39m(samples, data, ps, name, rel_to\u001b[38;5;241m=\u001b[39m\u001b[38;5;124m\"\u001b[39m\u001b[38;5;124mother\u001b[39m\u001b[38;5;124m\"\u001b[39m):\n\u001b[1;32m      2\u001b[0m     \u001b[38;5;66;03m# Unpack variant info\u001b[39;00m\n\u001b[1;32m      3\u001b[0m     var_names \u001b[38;5;241m=\u001b[39m data\u001b[38;5;241m.\u001b[39mvar_names\n\u001b[0;32m----> 4\u001b[0m     par_names \u001b[38;5;241m=\u001b[39m [data\u001b[38;5;241m.\u001b[39mparent_map[v] \u001b[38;5;28;01mfor\u001b[39;00m v \u001b[38;5;129;01min\u001b[39;00m var_names]\n\u001b[1;32m      6\u001b[0m     \u001b[38;5;66;03m# Get posterior samples\u001b[39;00m\n\u001b[1;32m      7\u001b[0m     ga \u001b[38;5;241m=\u001b[39m jnp\u001b[38;5;241m.\u001b[39marray(jnp\u001b[38;5;241m.\u001b[39mexp(samples[\u001b[38;5;124m\"\u001b[39m\u001b[38;5;124mdelta\u001b[39m\u001b[38;5;124m\"\u001b[39m]))\n",
      "Cell \u001b[0;32mIn[16], line 4\u001b[0m, in \u001b[0;36m<listcomp>\u001b[0;34m(.0)\u001b[0m\n\u001b[1;32m      1\u001b[0m \u001b[38;5;28;01mdef\u001b[39;00m \u001b[38;5;21mget_growth_advantage_delta\u001b[39m(samples, data, ps, name, rel_to\u001b[38;5;241m=\u001b[39m\u001b[38;5;124m\"\u001b[39m\u001b[38;5;124mother\u001b[39m\u001b[38;5;124m\"\u001b[39m):\n\u001b[1;32m      2\u001b[0m     \u001b[38;5;66;03m# Unpack variant info\u001b[39;00m\n\u001b[1;32m      3\u001b[0m     var_names \u001b[38;5;241m=\u001b[39m data\u001b[38;5;241m.\u001b[39mvar_names\n\u001b[0;32m----> 4\u001b[0m     par_names \u001b[38;5;241m=\u001b[39m [\u001b[43mdata\u001b[49m\u001b[38;5;241;43m.\u001b[39;49m\u001b[43mparent_map\u001b[49m\u001b[43m[\u001b[49m\u001b[43mv\u001b[49m\u001b[43m]\u001b[49m \u001b[38;5;28;01mfor\u001b[39;00m v \u001b[38;5;129;01min\u001b[39;00m var_names]\n\u001b[1;32m      6\u001b[0m     \u001b[38;5;66;03m# Get posterior samples\u001b[39;00m\n\u001b[1;32m      7\u001b[0m     ga \u001b[38;5;241m=\u001b[39m jnp\u001b[38;5;241m.\u001b[39marray(jnp\u001b[38;5;241m.\u001b[39mexp(samples[\u001b[38;5;124m\"\u001b[39m\u001b[38;5;124mdelta\u001b[39m\u001b[38;5;124m\"\u001b[39m]))\n",
      "\u001b[0;31mKeyError\u001b[0m: 'BE.5'"
     ]
    }
   ],
   "source": [
    "ga_delta_df = pd.DataFrame(\n",
    "    get_growth_advantage_delta(samples, variant_frequencies, [0.8], \"USA\", rel_to=\"BA.2\")\n",
    ")\n",
    "ga_delta_df.head(10)"
   ]
  },
  {
   "cell_type": "code",
   "execution_count": 14,
   "id": "68a5ade6",
   "metadata": {},
   "outputs": [
    {
     "ename": "NameError",
     "evalue": "name 'ga_delta_df' is not defined",
     "output_type": "error",
     "traceback": [
      "\u001b[0;31m---------------------------------------------------------------------------\u001b[0m",
      "\u001b[0;31mNameError\u001b[0m                                 Traceback (most recent call last)",
      "Cell \u001b[0;32mIn[14], line 1\u001b[0m\n\u001b[0;32m----> 1\u001b[0m \u001b[43mga_delta_df\u001b[49m\u001b[38;5;241m.\u001b[39mto_csv(\u001b[38;5;124m'\u001b[39m\u001b[38;5;124mgrowth_advantages_delta.tsv\u001b[39m\u001b[38;5;124m'\u001b[39m, sep\u001b[38;5;241m=\u001b[39m\u001b[38;5;124m\"\u001b[39m\u001b[38;5;130;01m\\t\u001b[39;00m\u001b[38;5;124m\"\u001b[39m)\n",
      "\u001b[0;31mNameError\u001b[0m: name 'ga_delta_df' is not defined"
     ]
    }
   ],
   "source": [
    "ga_delta_df.to_csv('growth_advantages_delta.tsv', sep=\"\\t\")"
   ]
  },
  {
   "cell_type": "code",
   "execution_count": null,
   "id": "3dba5133",
   "metadata": {},
   "outputs": [],
   "source": []
  }
 ],
 "metadata": {
  "kernelspec": {
   "display_name": "Python 3 (ipykernel)",
   "language": "python",
   "name": "python3"
  },
  "language_info": {
   "codemirror_mode": {
    "name": "ipython",
    "version": 3
   },
   "file_extension": ".py",
   "mimetype": "text/x-python",
   "name": "python",
   "nbconvert_exporter": "python",
   "pygments_lexer": "ipython3",
   "version": "3.9.13"
  }
 },
 "nbformat": 4,
 "nbformat_minor": 5
}
